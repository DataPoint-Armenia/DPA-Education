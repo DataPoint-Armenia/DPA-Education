{
  "cells": [
    {
      "cell_type": "markdown",
      "source": "\n![Amberd](amberd.jpg)\n### Presentation Slides\n[Slides are attached here](https://docs.google.com/presentation/d/1MH4TJ5kkJuynZO20Fd7AOKGhWU8_DrCuxO21IeUrUzo/edit#slide=id.gc6f59039d_0_29)",
      "metadata": {
        "tags": [],
        "cell_id": "00001-7035b3a7-1317-4817-a43f-6fc830a88c0f",
        "deepnote_cell_type": "markdown"
      }
    },
    {
      "cell_type": "markdown",
      "source": "## Welcome to Simple Linear Regression!!\nIn this notebook we will explore the fundamentals of constructing a simple linear regression model using Health data and understand how we can analyze and utilize this model for prediction. ",
      "metadata": {
        "tags": [],
        "cell_id": "00001-2b24874c-6efb-4153-836f-0842517b2907",
        "deepnote_cell_type": "markdown"
      }
    },
    {
      "cell_type": "code",
      "metadata": {
        "tags": [],
        "cell_id": "00002-3f72daae-5d0e-4547-829e-daadf757573c",
        "deepnote_to_be_reexecuted": false,
        "source_hash": "5a54eb10",
        "execution_millis": 2947,
        "execution_start": 1618163951157,
        "deepnote_cell_type": "code"
      },
      "source": "!pip install statsmodels==0.12.2",
      "execution_count": 46,
      "outputs": [
        {
          "name": "stdout",
          "text": "Requirement already satisfied: statsmodels==0.12.2 in /root/venv/lib/python3.7/site-packages (0.12.2)\nRequirement already satisfied: patsy>=0.5 in /root/venv/lib/python3.7/site-packages (from statsmodels==0.12.2) (0.5.1)\nRequirement already satisfied: scipy>=1.1 in /shared-libs/python3.7/py/lib/python3.7/site-packages (from statsmodels==0.12.2) (1.6.1)\nRequirement already satisfied: numpy>=1.15 in /shared-libs/python3.7/py/lib/python3.7/site-packages (from statsmodels==0.12.2) (1.19.5)\nRequirement already satisfied: pandas>=0.21 in /shared-libs/python3.7/py/lib/python3.7/site-packages (from statsmodels==0.12.2) (1.2.3)\nRequirement already satisfied: six in /shared-libs/python3.7/py-core/lib/python3.7/site-packages (from patsy>=0.5->statsmodels==0.12.2) (1.15.0)\nRequirement already satisfied: python-dateutil>=2.7.3 in /shared-libs/python3.7/py-core/lib/python3.7/site-packages (from pandas>=0.21->statsmodels==0.12.2) (2.8.1)\nRequirement already satisfied: pytz>=2017.3 in /shared-libs/python3.7/py/lib/python3.7/site-packages (from pandas>=0.21->statsmodels==0.12.2) (2021.1)\n\u001b[33mWARNING: You are using pip version 20.1.1; however, version 21.0.1 is available.\nYou should consider upgrading via the '/root/venv/bin/python -m pip install --upgrade pip' command.\u001b[0m\n",
          "output_type": "stream"
        }
      ]
    },
    {
      "cell_type": "code",
      "metadata": {
        "tags": [],
        "cell_id": "00003-ebcedf38-43ec-4d69-b95e-d58714a34523",
        "deepnote_to_be_reexecuted": false,
        "source_hash": "a2cd913e",
        "execution_millis": 2,
        "execution_start": 1618163957154,
        "deepnote_cell_type": "code"
      },
      "source": "# EDA and Visualization\nimport pandas as pd\nimport numpy as np\nimport matplotlib.pyplot as plt\nimport seaborn as sns\n\n# Modeling \nfrom sklearn.model_selection import train_test_split\nfrom sklearn.linear_model import LinearRegression\nfrom sklearn.metrics import r2_score\nfrom sklearn.metrics import mean_squared_error\n",
      "execution_count": 47,
      "outputs": []
    },
    {
      "cell_type": "code",
      "metadata": {
        "tags": [],
        "cell_id": "00002-8522beff-fa43-4cc6-944c-f1980a07f9bc",
        "deepnote_to_be_reexecuted": false,
        "source_hash": "f0052be3",
        "execution_millis": 9,
        "execution_start": 1618163959530,
        "deepnote_cell_type": "code"
      },
      "source": "health = pd.read_csv(\"health.csv\")",
      "execution_count": 48,
      "outputs": []
    },
    {
      "cell_type": "code",
      "metadata": {
        "tags": [],
        "cell_id": "00004-b418c488-4dba-4af8-b8d1-35bfde8674c5",
        "deepnote_to_be_reexecuted": false,
        "source_hash": "9d657209",
        "execution_millis": 87,
        "execution_start": 1618163962595,
        "deepnote_cell_type": "code"
      },
      "source": "health.head()",
      "execution_count": 49,
      "outputs": [
        {
          "output_type": "execute_result",
          "execution_count": 49,
          "data": {
            "application/vnd.deepnote.dataframe.v2+json": {
              "row_count": 5,
              "column_count": 32,
              "columns": [
                {
                  "name": "Unnamed: 0",
                  "dtype": "int64",
                  "stats": {
                    "unique_count": 5,
                    "nan_count": 0,
                    "min": 1068,
                    "max": 3570,
                    "histogram": [
                      {
                        "bin_start": 1068,
                        "bin_end": 1318.2,
                        "count": 1
                      },
                      {
                        "bin_start": 1318.2,
                        "bin_end": 1568.4,
                        "count": 0
                      },
                      {
                        "bin_start": 1568.4,
                        "bin_end": 1818.6,
                        "count": 0
                      },
                      {
                        "bin_start": 1818.6,
                        "bin_end": 2068.8,
                        "count": 0
                      },
                      {
                        "bin_start": 2068.8,
                        "bin_end": 2319,
                        "count": 1
                      },
                      {
                        "bin_start": 2319,
                        "bin_end": 2569.2,
                        "count": 0
                      },
                      {
                        "bin_start": 2569.2,
                        "bin_end": 2819.3999999999996,
                        "count": 0
                      },
                      {
                        "bin_start": 2819.3999999999996,
                        "bin_end": 3069.6,
                        "count": 0
                      },
                      {
                        "bin_start": 3069.6,
                        "bin_end": 3319.7999999999997,
                        "count": 1
                      },
                      {
                        "bin_start": 3319.7999999999997,
                        "bin_end": 3570,
                        "count": 2
                      }
                    ]
                  }
                },
                {
                  "name": "Casenr",
                  "dtype": "int64",
                  "stats": {
                    "unique_count": 5,
                    "nan_count": 0,
                    "min": 1068,
                    "max": 3570,
                    "histogram": [
                      {
                        "bin_start": 1068,
                        "bin_end": 1318.2,
                        "count": 1
                      },
                      {
                        "bin_start": 1318.2,
                        "bin_end": 1568.4,
                        "count": 0
                      },
                      {
                        "bin_start": 1568.4,
                        "bin_end": 1818.6,
                        "count": 0
                      },
                      {
                        "bin_start": 1818.6,
                        "bin_end": 2068.8,
                        "count": 0
                      },
                      {
                        "bin_start": 2068.8,
                        "bin_end": 2319,
                        "count": 1
                      },
                      {
                        "bin_start": 2319,
                        "bin_end": 2569.2,
                        "count": 0
                      },
                      {
                        "bin_start": 2569.2,
                        "bin_end": 2819.3999999999996,
                        "count": 0
                      },
                      {
                        "bin_start": 2819.3999999999996,
                        "bin_end": 3069.6,
                        "count": 0
                      },
                      {
                        "bin_start": 3069.6,
                        "bin_end": 3319.7999999999997,
                        "count": 1
                      },
                      {
                        "bin_start": 3319.7999999999997,
                        "bin_end": 3570,
                        "count": 2
                      }
                    ]
                  }
                },
                {
                  "name": "Age",
                  "dtype": "int64",
                  "stats": {
                    "unique_count": 5,
                    "nan_count": 0,
                    "min": 46,
                    "max": 70,
                    "histogram": [
                      {
                        "bin_start": 46,
                        "bin_end": 48.4,
                        "count": 1
                      },
                      {
                        "bin_start": 48.4,
                        "bin_end": 50.8,
                        "count": 0
                      },
                      {
                        "bin_start": 50.8,
                        "bin_end": 53.2,
                        "count": 0
                      },
                      {
                        "bin_start": 53.2,
                        "bin_end": 55.6,
                        "count": 1
                      },
                      {
                        "bin_start": 55.6,
                        "bin_end": 58,
                        "count": 0
                      },
                      {
                        "bin_start": 58,
                        "bin_end": 60.4,
                        "count": 0
                      },
                      {
                        "bin_start": 60.4,
                        "bin_end": 62.8,
                        "count": 0
                      },
                      {
                        "bin_start": 62.8,
                        "bin_end": 65.2,
                        "count": 1
                      },
                      {
                        "bin_start": 65.2,
                        "bin_end": 67.6,
                        "count": 0
                      },
                      {
                        "bin_start": 67.6,
                        "bin_end": 70,
                        "count": 2
                      }
                    ]
                  }
                },
                {
                  "name": "Gender",
                  "dtype": "int64",
                  "stats": {
                    "unique_count": 2,
                    "nan_count": 0,
                    "min": 0,
                    "max": 1,
                    "histogram": [
                      {
                        "bin_start": 0,
                        "bin_end": 0.1,
                        "count": 2
                      },
                      {
                        "bin_start": 0.1,
                        "bin_end": 0.2,
                        "count": 0
                      },
                      {
                        "bin_start": 0.2,
                        "bin_end": 0.30000000000000004,
                        "count": 0
                      },
                      {
                        "bin_start": 0.30000000000000004,
                        "bin_end": 0.4,
                        "count": 0
                      },
                      {
                        "bin_start": 0.4,
                        "bin_end": 0.5,
                        "count": 0
                      },
                      {
                        "bin_start": 0.5,
                        "bin_end": 0.6000000000000001,
                        "count": 0
                      },
                      {
                        "bin_start": 0.6000000000000001,
                        "bin_end": 0.7000000000000001,
                        "count": 0
                      },
                      {
                        "bin_start": 0.7000000000000001,
                        "bin_end": 0.8,
                        "count": 0
                      },
                      {
                        "bin_start": 0.8,
                        "bin_end": 0.9,
                        "count": 0
                      },
                      {
                        "bin_start": 0.9,
                        "bin_end": 1,
                        "count": 3
                      }
                    ]
                  }
                },
                {
                  "name": "Ethnicity",
                  "dtype": "int64",
                  "stats": {
                    "unique_count": 3,
                    "nan_count": 0,
                    "min": 0,
                    "max": 3,
                    "histogram": [
                      {
                        "bin_start": 0,
                        "bin_end": 0.3,
                        "count": 3
                      },
                      {
                        "bin_start": 0.3,
                        "bin_end": 0.6,
                        "count": 0
                      },
                      {
                        "bin_start": 0.6,
                        "bin_end": 0.8999999999999999,
                        "count": 0
                      },
                      {
                        "bin_start": 0.8999999999999999,
                        "bin_end": 1.2,
                        "count": 0
                      },
                      {
                        "bin_start": 1.2,
                        "bin_end": 1.5,
                        "count": 0
                      },
                      {
                        "bin_start": 1.5,
                        "bin_end": 1.7999999999999998,
                        "count": 0
                      },
                      {
                        "bin_start": 1.7999999999999998,
                        "bin_end": 2.1,
                        "count": 1
                      },
                      {
                        "bin_start": 2.1,
                        "bin_end": 2.4,
                        "count": 0
                      },
                      {
                        "bin_start": 2.4,
                        "bin_end": 2.6999999999999997,
                        "count": 0
                      },
                      {
                        "bin_start": 2.6999999999999997,
                        "bin_end": 3,
                        "count": 1
                      }
                    ]
                  }
                },
                {
                  "name": "Education",
                  "dtype": "int64",
                  "stats": {
                    "unique_count": 3,
                    "nan_count": 0,
                    "min": 1,
                    "max": 3,
                    "histogram": [
                      {
                        "bin_start": 1,
                        "bin_end": 1.2,
                        "count": 1
                      },
                      {
                        "bin_start": 1.2,
                        "bin_end": 1.4,
                        "count": 0
                      },
                      {
                        "bin_start": 1.4,
                        "bin_end": 1.6,
                        "count": 0
                      },
                      {
                        "bin_start": 1.6,
                        "bin_end": 1.8,
                        "count": 0
                      },
                      {
                        "bin_start": 1.8,
                        "bin_end": 2,
                        "count": 0
                      },
                      {
                        "bin_start": 2,
                        "bin_end": 2.2,
                        "count": 3
                      },
                      {
                        "bin_start": 2.2,
                        "bin_end": 2.4000000000000004,
                        "count": 0
                      },
                      {
                        "bin_start": 2.4000000000000004,
                        "bin_end": 2.6,
                        "count": 0
                      },
                      {
                        "bin_start": 2.6,
                        "bin_end": 2.8,
                        "count": 0
                      },
                      {
                        "bin_start": 2.8,
                        "bin_end": 3,
                        "count": 1
                      }
                    ]
                  }
                },
                {
                  "name": "RFFT",
                  "dtype": "int64",
                  "stats": {
                    "unique_count": 5,
                    "nan_count": 0,
                    "min": 35,
                    "max": 89,
                    "histogram": [
                      {
                        "bin_start": 35,
                        "bin_end": 40.4,
                        "count": 1
                      },
                      {
                        "bin_start": 40.4,
                        "bin_end": 45.8,
                        "count": 0
                      },
                      {
                        "bin_start": 45.8,
                        "bin_end": 51.2,
                        "count": 0
                      },
                      {
                        "bin_start": 51.2,
                        "bin_end": 56.6,
                        "count": 0
                      },
                      {
                        "bin_start": 56.6,
                        "bin_end": 62,
                        "count": 0
                      },
                      {
                        "bin_start": 62,
                        "bin_end": 67.4,
                        "count": 1
                      },
                      {
                        "bin_start": 67.4,
                        "bin_end": 72.80000000000001,
                        "count": 1
                      },
                      {
                        "bin_start": 72.80000000000001,
                        "bin_end": 78.2,
                        "count": 0
                      },
                      {
                        "bin_start": 78.2,
                        "bin_end": 83.6,
                        "count": 1
                      },
                      {
                        "bin_start": 83.6,
                        "bin_end": 89,
                        "count": 1
                      }
                    ]
                  }
                },
                {
                  "name": "VAT",
                  "dtype": "int64",
                  "stats": {
                    "unique_count": 5,
                    "nan_count": 0,
                    "min": -1,
                    "max": 11,
                    "histogram": [
                      {
                        "bin_start": -1,
                        "bin_end": 0.19999999999999996,
                        "count": 1
                      },
                      {
                        "bin_start": 0.19999999999999996,
                        "bin_end": 1.4,
                        "count": 0
                      },
                      {
                        "bin_start": 1.4,
                        "bin_end": 2.5999999999999996,
                        "count": 0
                      },
                      {
                        "bin_start": 2.5999999999999996,
                        "bin_end": 3.8,
                        "count": 0
                      },
                      {
                        "bin_start": 3.8,
                        "bin_end": 5,
                        "count": 0
                      },
                      {
                        "bin_start": 5,
                        "bin_end": 6.199999999999999,
                        "count": 2
                      },
                      {
                        "bin_start": 6.199999999999999,
                        "bin_end": 7.4,
                        "count": 0
                      },
                      {
                        "bin_start": 7.4,
                        "bin_end": 8.6,
                        "count": 0
                      },
                      {
                        "bin_start": 8.6,
                        "bin_end": 9.799999999999999,
                        "count": 0
                      },
                      {
                        "bin_start": 9.799999999999999,
                        "bin_end": 11,
                        "count": 2
                      }
                    ]
                  }
                },
                {
                  "name": "CVD",
                  "dtype": "int64",
                  "stats": {
                    "unique_count": 1,
                    "nan_count": 0,
                    "min": 0,
                    "max": 0,
                    "histogram": [
                      {
                        "bin_start": -0.5,
                        "bin_end": -0.4,
                        "count": 0
                      },
                      {
                        "bin_start": -0.4,
                        "bin_end": -0.3,
                        "count": 0
                      },
                      {
                        "bin_start": -0.3,
                        "bin_end": -0.19999999999999996,
                        "count": 0
                      },
                      {
                        "bin_start": -0.19999999999999996,
                        "bin_end": -0.09999999999999998,
                        "count": 0
                      },
                      {
                        "bin_start": -0.09999999999999998,
                        "bin_end": 0,
                        "count": 0
                      },
                      {
                        "bin_start": 0,
                        "bin_end": 0.10000000000000009,
                        "count": 5
                      },
                      {
                        "bin_start": 0.10000000000000009,
                        "bin_end": 0.20000000000000007,
                        "count": 0
                      },
                      {
                        "bin_start": 0.20000000000000007,
                        "bin_end": 0.30000000000000004,
                        "count": 0
                      },
                      {
                        "bin_start": 0.30000000000000004,
                        "bin_end": 0.4,
                        "count": 0
                      },
                      {
                        "bin_start": 0.4,
                        "bin_end": 0.5,
                        "count": 0
                      }
                    ]
                  }
                },
                {
                  "name": "DM",
                  "dtype": "int64",
                  "stats": {
                    "unique_count": 2,
                    "nan_count": 0,
                    "min": 0,
                    "max": 1,
                    "histogram": [
                      {
                        "bin_start": 0,
                        "bin_end": 0.1,
                        "count": 4
                      },
                      {
                        "bin_start": 0.1,
                        "bin_end": 0.2,
                        "count": 0
                      },
                      {
                        "bin_start": 0.2,
                        "bin_end": 0.30000000000000004,
                        "count": 0
                      },
                      {
                        "bin_start": 0.30000000000000004,
                        "bin_end": 0.4,
                        "count": 0
                      },
                      {
                        "bin_start": 0.4,
                        "bin_end": 0.5,
                        "count": 0
                      },
                      {
                        "bin_start": 0.5,
                        "bin_end": 0.6000000000000001,
                        "count": 0
                      },
                      {
                        "bin_start": 0.6000000000000001,
                        "bin_end": 0.7000000000000001,
                        "count": 0
                      },
                      {
                        "bin_start": 0.7000000000000001,
                        "bin_end": 0.8,
                        "count": 0
                      },
                      {
                        "bin_start": 0.8,
                        "bin_end": 0.9,
                        "count": 0
                      },
                      {
                        "bin_start": 0.9,
                        "bin_end": 1,
                        "count": 1
                      }
                    ]
                  }
                },
                {
                  "name": "Smoking",
                  "dtype": "int64",
                  "stats": {
                    "unique_count": 1,
                    "nan_count": 0,
                    "min": 0,
                    "max": 0,
                    "histogram": [
                      {
                        "bin_start": -0.5,
                        "bin_end": -0.4,
                        "count": 0
                      },
                      {
                        "bin_start": -0.4,
                        "bin_end": -0.3,
                        "count": 0
                      },
                      {
                        "bin_start": -0.3,
                        "bin_end": -0.19999999999999996,
                        "count": 0
                      },
                      {
                        "bin_start": -0.19999999999999996,
                        "bin_end": -0.09999999999999998,
                        "count": 0
                      },
                      {
                        "bin_start": -0.09999999999999998,
                        "bin_end": 0,
                        "count": 0
                      },
                      {
                        "bin_start": 0,
                        "bin_end": 0.10000000000000009,
                        "count": 5
                      },
                      {
                        "bin_start": 0.10000000000000009,
                        "bin_end": 0.20000000000000007,
                        "count": 0
                      },
                      {
                        "bin_start": 0.20000000000000007,
                        "bin_end": 0.30000000000000004,
                        "count": 0
                      },
                      {
                        "bin_start": 0.30000000000000004,
                        "bin_end": 0.4,
                        "count": 0
                      },
                      {
                        "bin_start": 0.4,
                        "bin_end": 0.5,
                        "count": 0
                      }
                    ]
                  }
                },
                {
                  "name": "Hypertension",
                  "dtype": "int64",
                  "stats": {
                    "unique_count": 2,
                    "nan_count": 0,
                    "min": 0,
                    "max": 1,
                    "histogram": [
                      {
                        "bin_start": 0,
                        "bin_end": 0.1,
                        "count": 4
                      },
                      {
                        "bin_start": 0.1,
                        "bin_end": 0.2,
                        "count": 0
                      },
                      {
                        "bin_start": 0.2,
                        "bin_end": 0.30000000000000004,
                        "count": 0
                      },
                      {
                        "bin_start": 0.30000000000000004,
                        "bin_end": 0.4,
                        "count": 0
                      },
                      {
                        "bin_start": 0.4,
                        "bin_end": 0.5,
                        "count": 0
                      },
                      {
                        "bin_start": 0.5,
                        "bin_end": 0.6000000000000001,
                        "count": 0
                      },
                      {
                        "bin_start": 0.6000000000000001,
                        "bin_end": 0.7000000000000001,
                        "count": 0
                      },
                      {
                        "bin_start": 0.7000000000000001,
                        "bin_end": 0.8,
                        "count": 0
                      },
                      {
                        "bin_start": 0.8,
                        "bin_end": 0.9,
                        "count": 0
                      },
                      {
                        "bin_start": 0.9,
                        "bin_end": 1,
                        "count": 1
                      }
                    ]
                  }
                },
                {
                  "name": "BMI",
                  "dtype": "float64",
                  "stats": {
                    "unique_count": 5,
                    "nan_count": 0,
                    "min": 22.343515592582,
                    "max": 39.6694214876033,
                    "histogram": [
                      {
                        "bin_start": 22.343515592582,
                        "bin_end": 24.076106182084132,
                        "count": 2
                      },
                      {
                        "bin_start": 24.076106182084132,
                        "bin_end": 25.808696771586263,
                        "count": 0
                      },
                      {
                        "bin_start": 25.808696771586263,
                        "bin_end": 27.541287361088393,
                        "count": 0
                      },
                      {
                        "bin_start": 27.541287361088393,
                        "bin_end": 29.27387795059052,
                        "count": 1
                      },
                      {
                        "bin_start": 29.27387795059052,
                        "bin_end": 31.00646854009265,
                        "count": 0
                      },
                      {
                        "bin_start": 31.00646854009265,
                        "bin_end": 32.73905912959478,
                        "count": 1
                      },
                      {
                        "bin_start": 32.73905912959478,
                        "bin_end": 34.47164971909691,
                        "count": 0
                      },
                      {
                        "bin_start": 34.47164971909691,
                        "bin_end": 36.20424030859904,
                        "count": 0
                      },
                      {
                        "bin_start": 36.20424030859904,
                        "bin_end": 37.93683089810117,
                        "count": 0
                      },
                      {
                        "bin_start": 37.93683089810117,
                        "bin_end": 39.6694214876033,
                        "count": 1
                      }
                    ]
                  }
                },
                {
                  "name": "SBP",
                  "dtype": "float64",
                  "stats": {
                    "unique_count": 5,
                    "nan_count": 0,
                    "min": 107.5,
                    "max": 122,
                    "histogram": [
                      {
                        "bin_start": 107.5,
                        "bin_end": 108.95,
                        "count": 1
                      },
                      {
                        "bin_start": 108.95,
                        "bin_end": 110.4,
                        "count": 0
                      },
                      {
                        "bin_start": 110.4,
                        "bin_end": 111.85,
                        "count": 0
                      },
                      {
                        "bin_start": 111.85,
                        "bin_end": 113.3,
                        "count": 0
                      },
                      {
                        "bin_start": 113.3,
                        "bin_end": 114.75,
                        "count": 2
                      },
                      {
                        "bin_start": 114.75,
                        "bin_end": 116.2,
                        "count": 0
                      },
                      {
                        "bin_start": 116.2,
                        "bin_end": 117.65,
                        "count": 0
                      },
                      {
                        "bin_start": 117.65,
                        "bin_end": 119.1,
                        "count": 0
                      },
                      {
                        "bin_start": 119.1,
                        "bin_end": 120.55,
                        "count": 1
                      },
                      {
                        "bin_start": 120.55,
                        "bin_end": 122,
                        "count": 1
                      }
                    ]
                  }
                },
                {
                  "name": "DBP",
                  "dtype": "float64",
                  "stats": {
                    "unique_count": 5,
                    "nan_count": 0,
                    "min": 63.5,
                    "max": 75,
                    "histogram": [
                      {
                        "bin_start": 63.5,
                        "bin_end": 64.65,
                        "count": 1
                      },
                      {
                        "bin_start": 64.65,
                        "bin_end": 65.8,
                        "count": 0
                      },
                      {
                        "bin_start": 65.8,
                        "bin_end": 66.95,
                        "count": 1
                      },
                      {
                        "bin_start": 66.95,
                        "bin_end": 68.1,
                        "count": 1
                      },
                      {
                        "bin_start": 68.1,
                        "bin_end": 69.25,
                        "count": 0
                      },
                      {
                        "bin_start": 69.25,
                        "bin_end": 70.4,
                        "count": 0
                      },
                      {
                        "bin_start": 70.4,
                        "bin_end": 71.55,
                        "count": 0
                      },
                      {
                        "bin_start": 71.55,
                        "bin_end": 72.7,
                        "count": 1
                      },
                      {
                        "bin_start": 72.7,
                        "bin_end": 73.85,
                        "count": 0
                      },
                      {
                        "bin_start": 73.85,
                        "bin_end": 75,
                        "count": 1
                      }
                    ]
                  }
                },
                {
                  "name": "MAP",
                  "dtype": "float64",
                  "stats": {
                    "unique_count": 5,
                    "nan_count": 0,
                    "min": 82.5,
                    "max": 92.5,
                    "histogram": [
                      {
                        "bin_start": 82.5,
                        "bin_end": 83.5,
                        "count": 1
                      },
                      {
                        "bin_start": 83.5,
                        "bin_end": 84.5,
                        "count": 0
                      },
                      {
                        "bin_start": 84.5,
                        "bin_end": 85.5,
                        "count": 1
                      },
                      {
                        "bin_start": 85.5,
                        "bin_end": 86.5,
                        "count": 1
                      },
                      {
                        "bin_start": 86.5,
                        "bin_end": 87.5,
                        "count": 0
                      },
                      {
                        "bin_start": 87.5,
                        "bin_end": 88.5,
                        "count": 0
                      },
                      {
                        "bin_start": 88.5,
                        "bin_end": 89.5,
                        "count": 0
                      },
                      {
                        "bin_start": 89.5,
                        "bin_end": 90.5,
                        "count": 1
                      },
                      {
                        "bin_start": 90.5,
                        "bin_end": 91.5,
                        "count": 0
                      },
                      {
                        "bin_start": 91.5,
                        "bin_end": 92.5,
                        "count": 1
                      }
                    ]
                  }
                },
                {
                  "name": "eGFR",
                  "dtype": "float64",
                  "stats": {
                    "unique_count": 5,
                    "nan_count": 0,
                    "min": 61.2369745945942,
                    "max": 88.1461513208299,
                    "histogram": [
                      {
                        "bin_start": 61.2369745945942,
                        "bin_end": 63.92789226721777,
                        "count": 1
                      },
                      {
                        "bin_start": 63.92789226721777,
                        "bin_end": 66.61880993984134,
                        "count": 0
                      },
                      {
                        "bin_start": 66.61880993984134,
                        "bin_end": 69.30972761246491,
                        "count": 0
                      },
                      {
                        "bin_start": 69.30972761246491,
                        "bin_end": 72.00064528508848,
                        "count": 0
                      },
                      {
                        "bin_start": 72.00064528508848,
                        "bin_end": 74.69156295771205,
                        "count": 0
                      },
                      {
                        "bin_start": 74.69156295771205,
                        "bin_end": 77.38248063033562,
                        "count": 2
                      },
                      {
                        "bin_start": 77.38248063033562,
                        "bin_end": 80.07339830295919,
                        "count": 0
                      },
                      {
                        "bin_start": 80.07339830295919,
                        "bin_end": 82.76431597558276,
                        "count": 0
                      },
                      {
                        "bin_start": 82.76431597558276,
                        "bin_end": 85.45523364820633,
                        "count": 1
                      },
                      {
                        "bin_start": 85.45523364820633,
                        "bin_end": 88.1461513208299,
                        "count": 1
                      }
                    ]
                  }
                },
                {
                  "name": "Albuminuria.1",
                  "dtype": "int64",
                  "stats": {
                    "unique_count": 2,
                    "nan_count": 0,
                    "min": 0,
                    "max": 1,
                    "histogram": [
                      {
                        "bin_start": 0,
                        "bin_end": 0.1,
                        "count": 4
                      },
                      {
                        "bin_start": 0.1,
                        "bin_end": 0.2,
                        "count": 0
                      },
                      {
                        "bin_start": 0.2,
                        "bin_end": 0.30000000000000004,
                        "count": 0
                      },
                      {
                        "bin_start": 0.30000000000000004,
                        "bin_end": 0.4,
                        "count": 0
                      },
                      {
                        "bin_start": 0.4,
                        "bin_end": 0.5,
                        "count": 0
                      },
                      {
                        "bin_start": 0.5,
                        "bin_end": 0.6000000000000001,
                        "count": 0
                      },
                      {
                        "bin_start": 0.6000000000000001,
                        "bin_end": 0.7000000000000001,
                        "count": 0
                      },
                      {
                        "bin_start": 0.7000000000000001,
                        "bin_end": 0.8,
                        "count": 0
                      },
                      {
                        "bin_start": 0.8,
                        "bin_end": 0.9,
                        "count": 0
                      },
                      {
                        "bin_start": 0.9,
                        "bin_end": 1,
                        "count": 1
                      }
                    ]
                  }
                },
                {
                  "name": "Albuminuria.2",
                  "dtype": "int64",
                  "stats": {
                    "unique_count": 3,
                    "nan_count": 0,
                    "min": 0,
                    "max": 2,
                    "histogram": [
                      {
                        "bin_start": 0,
                        "bin_end": 0.2,
                        "count": 3
                      },
                      {
                        "bin_start": 0.2,
                        "bin_end": 0.4,
                        "count": 0
                      },
                      {
                        "bin_start": 0.4,
                        "bin_end": 0.6000000000000001,
                        "count": 0
                      },
                      {
                        "bin_start": 0.6000000000000001,
                        "bin_end": 0.8,
                        "count": 0
                      },
                      {
                        "bin_start": 0.8,
                        "bin_end": 1,
                        "count": 0
                      },
                      {
                        "bin_start": 1,
                        "bin_end": 1.2000000000000002,
                        "count": 1
                      },
                      {
                        "bin_start": 1.2000000000000002,
                        "bin_end": 1.4000000000000001,
                        "count": 0
                      },
                      {
                        "bin_start": 1.4000000000000001,
                        "bin_end": 1.6,
                        "count": 0
                      },
                      {
                        "bin_start": 1.6,
                        "bin_end": 1.8,
                        "count": 0
                      },
                      {
                        "bin_start": 1.8,
                        "bin_end": 2,
                        "count": 1
                      }
                    ]
                  }
                },
                {
                  "name": "Chol",
                  "dtype": "float64",
                  "stats": {
                    "unique_count": 5,
                    "nan_count": 0,
                    "min": 3.86,
                    "max": 7.11,
                    "histogram": [
                      {
                        "bin_start": 3.86,
                        "bin_end": 4.185,
                        "count": 1
                      },
                      {
                        "bin_start": 4.185,
                        "bin_end": 4.51,
                        "count": 0
                      },
                      {
                        "bin_start": 4.51,
                        "bin_end": 4.835,
                        "count": 0
                      },
                      {
                        "bin_start": 4.835,
                        "bin_end": 5.16,
                        "count": 1
                      },
                      {
                        "bin_start": 5.16,
                        "bin_end": 5.485,
                        "count": 0
                      },
                      {
                        "bin_start": 5.485,
                        "bin_end": 5.8100000000000005,
                        "count": 1
                      },
                      {
                        "bin_start": 5.8100000000000005,
                        "bin_end": 6.135,
                        "count": 0
                      },
                      {
                        "bin_start": 6.135,
                        "bin_end": 6.460000000000001,
                        "count": 0
                      },
                      {
                        "bin_start": 6.460000000000001,
                        "bin_end": 6.785,
                        "count": 0
                      },
                      {
                        "bin_start": 6.785,
                        "bin_end": 7.11,
                        "count": 2
                      }
                    ]
                  }
                },
                {
                  "name": "HDL",
                  "dtype": "float64",
                  "stats": {
                    "unique_count": 5,
                    "nan_count": 0,
                    "min": 1.04,
                    "max": 1.85,
                    "histogram": [
                      {
                        "bin_start": 1.04,
                        "bin_end": 1.121,
                        "count": 1
                      },
                      {
                        "bin_start": 1.121,
                        "bin_end": 1.202,
                        "count": 0
                      },
                      {
                        "bin_start": 1.202,
                        "bin_end": 1.283,
                        "count": 0
                      },
                      {
                        "bin_start": 1.283,
                        "bin_end": 1.364,
                        "count": 0
                      },
                      {
                        "bin_start": 1.364,
                        "bin_end": 1.445,
                        "count": 1
                      },
                      {
                        "bin_start": 1.445,
                        "bin_end": 1.526,
                        "count": 0
                      },
                      {
                        "bin_start": 1.526,
                        "bin_end": 1.6070000000000002,
                        "count": 2
                      },
                      {
                        "bin_start": 1.6070000000000002,
                        "bin_end": 1.6880000000000002,
                        "count": 0
                      },
                      {
                        "bin_start": 1.6880000000000002,
                        "bin_end": 1.7690000000000001,
                        "count": 0
                      },
                      {
                        "bin_start": 1.7690000000000001,
                        "bin_end": 1.85,
                        "count": 1
                      }
                    ]
                  }
                },
                {
                  "name": "Statin",
                  "dtype": "int64",
                  "stats": {
                    "unique_count": 2,
                    "nan_count": 0,
                    "min": 0,
                    "max": 1,
                    "histogram": [
                      {
                        "bin_start": 0,
                        "bin_end": 0.1,
                        "count": 4
                      },
                      {
                        "bin_start": 0.1,
                        "bin_end": 0.2,
                        "count": 0
                      },
                      {
                        "bin_start": 0.2,
                        "bin_end": 0.30000000000000004,
                        "count": 0
                      },
                      {
                        "bin_start": 0.30000000000000004,
                        "bin_end": 0.4,
                        "count": 0
                      },
                      {
                        "bin_start": 0.4,
                        "bin_end": 0.5,
                        "count": 0
                      },
                      {
                        "bin_start": 0.5,
                        "bin_end": 0.6000000000000001,
                        "count": 0
                      },
                      {
                        "bin_start": 0.6000000000000001,
                        "bin_end": 0.7000000000000001,
                        "count": 0
                      },
                      {
                        "bin_start": 0.7000000000000001,
                        "bin_end": 0.8,
                        "count": 0
                      },
                      {
                        "bin_start": 0.8,
                        "bin_end": 0.9,
                        "count": 0
                      },
                      {
                        "bin_start": 0.9,
                        "bin_end": 1,
                        "count": 1
                      }
                    ]
                  }
                },
                {
                  "name": "Solubility",
                  "dtype": "int64",
                  "stats": {
                    "unique_count": 2,
                    "nan_count": 0,
                    "min": 1,
                    "max": 2,
                    "histogram": [
                      {
                        "bin_start": 1,
                        "bin_end": 1.1,
                        "count": 1
                      },
                      {
                        "bin_start": 1.1,
                        "bin_end": 1.2,
                        "count": 0
                      },
                      {
                        "bin_start": 1.2,
                        "bin_end": 1.3,
                        "count": 0
                      },
                      {
                        "bin_start": 1.3,
                        "bin_end": 1.4,
                        "count": 0
                      },
                      {
                        "bin_start": 1.4,
                        "bin_end": 1.5,
                        "count": 0
                      },
                      {
                        "bin_start": 1.5,
                        "bin_end": 1.6,
                        "count": 0
                      },
                      {
                        "bin_start": 1.6,
                        "bin_end": 1.7000000000000002,
                        "count": 0
                      },
                      {
                        "bin_start": 1.7000000000000002,
                        "bin_end": 1.8,
                        "count": 0
                      },
                      {
                        "bin_start": 1.8,
                        "bin_end": 1.9,
                        "count": 0
                      },
                      {
                        "bin_start": 1.9,
                        "bin_end": 2,
                        "count": 4
                      }
                    ]
                  }
                },
                {
                  "name": "Days",
                  "dtype": "int64",
                  "stats": {
                    "unique_count": 2,
                    "nan_count": 0,
                    "min": -1,
                    "max": 1672,
                    "histogram": [
                      {
                        "bin_start": -1,
                        "bin_end": 166.3,
                        "count": 4
                      },
                      {
                        "bin_start": 166.3,
                        "bin_end": 333.6,
                        "count": 0
                      },
                      {
                        "bin_start": 333.6,
                        "bin_end": 500.90000000000003,
                        "count": 0
                      },
                      {
                        "bin_start": 500.90000000000003,
                        "bin_end": 668.2,
                        "count": 0
                      },
                      {
                        "bin_start": 668.2,
                        "bin_end": 835.5,
                        "count": 0
                      },
                      {
                        "bin_start": 835.5,
                        "bin_end": 1002.8000000000001,
                        "count": 0
                      },
                      {
                        "bin_start": 1002.8000000000001,
                        "bin_end": 1170.1000000000001,
                        "count": 0
                      },
                      {
                        "bin_start": 1170.1000000000001,
                        "bin_end": 1337.4,
                        "count": 0
                      },
                      {
                        "bin_start": 1337.4,
                        "bin_end": 1504.7,
                        "count": 0
                      },
                      {
                        "bin_start": 1504.7,
                        "bin_end": 1672,
                        "count": 1
                      }
                    ]
                  }
                },
                {
                  "name": "Years",
                  "dtype": "float64",
                  "stats": {
                    "unique_count": 2,
                    "nan_count": 0,
                    "min": -1,
                    "max": 4.58082191780822,
                    "histogram": [
                      {
                        "bin_start": -1,
                        "bin_end": -0.44191780821917803,
                        "count": 4
                      },
                      {
                        "bin_start": -0.44191780821917803,
                        "bin_end": 0.11616438356164394,
                        "count": 0
                      },
                      {
                        "bin_start": 0.11616438356164394,
                        "bin_end": 0.6742465753424658,
                        "count": 0
                      },
                      {
                        "bin_start": 0.6742465753424658,
                        "bin_end": 1.2323287671232879,
                        "count": 0
                      },
                      {
                        "bin_start": 1.2323287671232879,
                        "bin_end": 1.79041095890411,
                        "count": 0
                      },
                      {
                        "bin_start": 1.79041095890411,
                        "bin_end": 2.3484931506849316,
                        "count": 0
                      },
                      {
                        "bin_start": 2.3484931506849316,
                        "bin_end": 2.9065753424657537,
                        "count": 0
                      },
                      {
                        "bin_start": 2.9065753424657537,
                        "bin_end": 3.4646575342465757,
                        "count": 0
                      },
                      {
                        "bin_start": 3.4646575342465757,
                        "bin_end": 4.022739726027398,
                        "count": 0
                      },
                      {
                        "bin_start": 4.022739726027398,
                        "bin_end": 4.58082191780822,
                        "count": 1
                      }
                    ]
                  }
                },
                {
                  "name": "DDD",
                  "dtype": "float64",
                  "stats": {
                    "unique_count": 2,
                    "nan_count": 0,
                    "min": 0,
                    "max": 1373,
                    "histogram": [
                      {
                        "bin_start": 0,
                        "bin_end": 137.3,
                        "count": 4
                      },
                      {
                        "bin_start": 137.3,
                        "bin_end": 274.6,
                        "count": 0
                      },
                      {
                        "bin_start": 274.6,
                        "bin_end": 411.90000000000003,
                        "count": 0
                      },
                      {
                        "bin_start": 411.90000000000003,
                        "bin_end": 549.2,
                        "count": 0
                      },
                      {
                        "bin_start": 549.2,
                        "bin_end": 686.5,
                        "count": 0
                      },
                      {
                        "bin_start": 686.5,
                        "bin_end": 823.8000000000001,
                        "count": 0
                      },
                      {
                        "bin_start": 823.8000000000001,
                        "bin_end": 961.1000000000001,
                        "count": 0
                      },
                      {
                        "bin_start": 961.1000000000001,
                        "bin_end": 1098.4,
                        "count": 0
                      },
                      {
                        "bin_start": 1098.4,
                        "bin_end": 1235.7,
                        "count": 0
                      },
                      {
                        "bin_start": 1235.7,
                        "bin_end": 1373,
                        "count": 1
                      }
                    ]
                  }
                },
                {
                  "name": "FRS",
                  "dtype": "int64",
                  "stats": {
                    "unique_count": 5,
                    "nan_count": 0,
                    "min": -1,
                    "max": 12,
                    "histogram": [
                      {
                        "bin_start": -1,
                        "bin_end": 0.30000000000000004,
                        "count": 1
                      },
                      {
                        "bin_start": 0.30000000000000004,
                        "bin_end": 1.6,
                        "count": 0
                      },
                      {
                        "bin_start": 1.6,
                        "bin_end": 2.9000000000000004,
                        "count": 0
                      },
                      {
                        "bin_start": 2.9000000000000004,
                        "bin_end": 4.2,
                        "count": 0
                      },
                      {
                        "bin_start": 4.2,
                        "bin_end": 5.5,
                        "count": 0
                      },
                      {
                        "bin_start": 5.5,
                        "bin_end": 6.800000000000001,
                        "count": 0
                      },
                      {
                        "bin_start": 6.800000000000001,
                        "bin_end": 8.1,
                        "count": 1
                      },
                      {
                        "bin_start": 8.1,
                        "bin_end": 9.4,
                        "count": 1
                      },
                      {
                        "bin_start": 9.4,
                        "bin_end": 10.700000000000001,
                        "count": 0
                      },
                      {
                        "bin_start": 10.700000000000001,
                        "bin_end": 12,
                        "count": 2
                      }
                    ]
                  }
                },
                {
                  "name": "PS",
                  "dtype": "float64",
                  "stats": {
                    "unique_count": 5,
                    "nan_count": 0,
                    "min": 0.0941757382335038,
                    "max": 0.374275183634225,
                    "histogram": [
                      {
                        "bin_start": 0.0941757382335038,
                        "bin_end": 0.12218568277357592,
                        "count": 1
                      },
                      {
                        "bin_start": 0.12218568277357592,
                        "bin_end": 0.15019562731364805,
                        "count": 1
                      },
                      {
                        "bin_start": 0.15019562731364805,
                        "bin_end": 0.17820557185372016,
                        "count": 0
                      },
                      {
                        "bin_start": 0.17820557185372016,
                        "bin_end": 0.2062155163937923,
                        "count": 1
                      },
                      {
                        "bin_start": 0.2062155163937923,
                        "bin_end": 0.23422546093386443,
                        "count": 0
                      },
                      {
                        "bin_start": 0.23422546093386443,
                        "bin_end": 0.26223540547393653,
                        "count": 1
                      },
                      {
                        "bin_start": 0.26223540547393653,
                        "bin_end": 0.29024535001400864,
                        "count": 0
                      },
                      {
                        "bin_start": 0.29024535001400864,
                        "bin_end": 0.3182552945540808,
                        "count": 0
                      },
                      {
                        "bin_start": 0.3182552945540808,
                        "bin_end": 0.3462652390941529,
                        "count": 0
                      },
                      {
                        "bin_start": 0.3462652390941529,
                        "bin_end": 0.374275183634225,
                        "count": 1
                      }
                    ]
                  }
                },
                {
                  "name": "PSquint",
                  "dtype": "int64",
                  "stats": {
                    "unique_count": 4,
                    "nan_count": 0,
                    "min": 2,
                    "max": 5,
                    "histogram": [
                      {
                        "bin_start": 2,
                        "bin_end": 2.3,
                        "count": 1
                      },
                      {
                        "bin_start": 2.3,
                        "bin_end": 2.6,
                        "count": 0
                      },
                      {
                        "bin_start": 2.6,
                        "bin_end": 2.9,
                        "count": 0
                      },
                      {
                        "bin_start": 2.9,
                        "bin_end": 3.2,
                        "count": 1
                      },
                      {
                        "bin_start": 3.2,
                        "bin_end": 3.5,
                        "count": 0
                      },
                      {
                        "bin_start": 3.5,
                        "bin_end": 3.8,
                        "count": 0
                      },
                      {
                        "bin_start": 3.8,
                        "bin_end": 4.1,
                        "count": 2
                      },
                      {
                        "bin_start": 4.1,
                        "bin_end": 4.4,
                        "count": 0
                      },
                      {
                        "bin_start": 4.4,
                        "bin_end": 4.699999999999999,
                        "count": 0
                      },
                      {
                        "bin_start": 4.699999999999999,
                        "bin_end": 5,
                        "count": 1
                      }
                    ]
                  }
                },
                {
                  "name": "GRS",
                  "dtype": "int64",
                  "stats": {
                    "unique_count": 2,
                    "nan_count": 0,
                    "min": 0,
                    "max": 1,
                    "histogram": [
                      {
                        "bin_start": 0,
                        "bin_end": 0.1,
                        "count": 2
                      },
                      {
                        "bin_start": 0.1,
                        "bin_end": 0.2,
                        "count": 0
                      },
                      {
                        "bin_start": 0.2,
                        "bin_end": 0.30000000000000004,
                        "count": 0
                      },
                      {
                        "bin_start": 0.30000000000000004,
                        "bin_end": 0.4,
                        "count": 0
                      },
                      {
                        "bin_start": 0.4,
                        "bin_end": 0.5,
                        "count": 0
                      },
                      {
                        "bin_start": 0.5,
                        "bin_end": 0.6000000000000001,
                        "count": 0
                      },
                      {
                        "bin_start": 0.6000000000000001,
                        "bin_end": 0.7000000000000001,
                        "count": 0
                      },
                      {
                        "bin_start": 0.7000000000000001,
                        "bin_end": 0.8,
                        "count": 0
                      },
                      {
                        "bin_start": 0.8,
                        "bin_end": 0.9,
                        "count": 0
                      },
                      {
                        "bin_start": 0.9,
                        "bin_end": 1,
                        "count": 3
                      }
                    ]
                  }
                },
                {
                  "name": "Match_1",
                  "dtype": "int64",
                  "stats": {
                    "unique_count": 4,
                    "nan_count": 0,
                    "min": -1,
                    "max": 838,
                    "histogram": [
                      {
                        "bin_start": -1,
                        "bin_end": 82.9,
                        "count": 2
                      },
                      {
                        "bin_start": 82.9,
                        "bin_end": 166.8,
                        "count": 0
                      },
                      {
                        "bin_start": 166.8,
                        "bin_end": 250.70000000000002,
                        "count": 0
                      },
                      {
                        "bin_start": 250.70000000000002,
                        "bin_end": 334.6,
                        "count": 0
                      },
                      {
                        "bin_start": 334.6,
                        "bin_end": 418.5,
                        "count": 0
                      },
                      {
                        "bin_start": 418.5,
                        "bin_end": 502.40000000000003,
                        "count": 0
                      },
                      {
                        "bin_start": 502.40000000000003,
                        "bin_end": 586.3000000000001,
                        "count": 0
                      },
                      {
                        "bin_start": 586.3000000000001,
                        "bin_end": 670.2,
                        "count": 0
                      },
                      {
                        "bin_start": 670.2,
                        "bin_end": 754.1,
                        "count": 1
                      },
                      {
                        "bin_start": 754.1,
                        "bin_end": 838,
                        "count": 2
                      }
                    ]
                  }
                },
                {
                  "name": "Match_2",
                  "dtype": "int64",
                  "stats": {
                    "unique_count": 4,
                    "nan_count": 0,
                    "min": -1,
                    "max": 276,
                    "histogram": [
                      {
                        "bin_start": -1,
                        "bin_end": 26.7,
                        "count": 2
                      },
                      {
                        "bin_start": 26.7,
                        "bin_end": 54.4,
                        "count": 0
                      },
                      {
                        "bin_start": 54.4,
                        "bin_end": 82.1,
                        "count": 0
                      },
                      {
                        "bin_start": 82.1,
                        "bin_end": 109.8,
                        "count": 0
                      },
                      {
                        "bin_start": 109.8,
                        "bin_end": 137.5,
                        "count": 1
                      },
                      {
                        "bin_start": 137.5,
                        "bin_end": 165.2,
                        "count": 0
                      },
                      {
                        "bin_start": 165.2,
                        "bin_end": 192.9,
                        "count": 0
                      },
                      {
                        "bin_start": 192.9,
                        "bin_end": 220.6,
                        "count": 0
                      },
                      {
                        "bin_start": 220.6,
                        "bin_end": 248.29999999999998,
                        "count": 1
                      },
                      {
                        "bin_start": 248.29999999999998,
                        "bin_end": 276,
                        "count": 1
                      }
                    ]
                  }
                },
                {
                  "name": "_deepnote_index_column",
                  "dtype": "int64"
                }
              ],
              "rows_top": [
                {
                  "Unnamed: 0": 2266,
                  "Casenr": 2266,
                  "Age": 55,
                  "Gender": 1,
                  "Ethnicity": 3,
                  "Education": 2,
                  "RFFT": 62,
                  "VAT": -1,
                  "CVD": 0,
                  "DM": 1,
                  "Smoking": 0,
                  "Hypertension": 0,
                  "BMI": 39.6694214876033,
                  "SBP": 122,
                  "DBP": 63.5,
                  "MAP": 86,
                  "eGFR": 83.2957284450851,
                  "Albuminuria.1": 0,
                  "Albuminuria.2": 0,
                  "Chol": 3.86,
                  "HDL": 1.54,
                  "Statin": 0,
                  "Solubility": 2,
                  "Days": -1,
                  "Years": -1,
                  "DDD": 0,
                  "FRS": 8,
                  "PS": 0.374275183634225,
                  "PSquint": 5,
                  "GRS": 1,
                  "Match_1": 816,
                  "Match_2": 113,
                  "_deepnote_index_column": 0
                },
                {
                  "Unnamed: 0": 3235,
                  "Casenr": 3235,
                  "Age": 65,
                  "Gender": 1,
                  "Ethnicity": 0,
                  "Education": 1,
                  "RFFT": 79,
                  "VAT": 11,
                  "CVD": 0,
                  "DM": 0,
                  "Smoking": 0,
                  "Hypertension": 1,
                  "BMI": 28.9811434378411,
                  "SBP": 107.5,
                  "DBP": 66.5,
                  "MAP": 82.5,
                  "eGFR": 76.490607967974,
                  "Albuminuria.1": 0,
                  "Albuminuria.2": 0,
                  "Chol": 5.64,
                  "HDL": 1.53,
                  "Statin": 1,
                  "Solubility": 1,
                  "Days": 1672,
                  "Years": 4.58082191780822,
                  "DDD": 1373,
                  "FRS": 11,
                  "PS": 0.255946064768173,
                  "PSquint": 4,
                  "GRS": 1,
                  "Match_1": 727,
                  "Match_2": 242,
                  "_deepnote_index_column": 1
                },
                {
                  "Unnamed: 0": 1068,
                  "Casenr": 1068,
                  "Age": 46,
                  "Gender": 0,
                  "Ethnicity": 2,
                  "Education": 3,
                  "RFFT": 89,
                  "VAT": 6,
                  "CVD": 0,
                  "DM": 0,
                  "Smoking": 0,
                  "Hypertension": 0,
                  "BMI": 23.2334561768947,
                  "SBP": 120.5,
                  "DBP": 75,
                  "MAP": 92.5,
                  "eGFR": 76.4490882641524,
                  "Albuminuria.1": 1,
                  "Albuminuria.2": 2,
                  "Chol": 6.83,
                  "HDL": 1.04,
                  "Statin": 0,
                  "Solubility": 2,
                  "Days": -1,
                  "Years": -1,
                  "DDD": 0,
                  "FRS": -1,
                  "PS": 0.128504003242032,
                  "PSquint": 3,
                  "GRS": 0,
                  "Match_1": -1,
                  "Match_2": -1,
                  "_deepnote_index_column": 2
                },
                {
                  "Unnamed: 0": 3422,
                  "Casenr": 3422,
                  "Age": 68,
                  "Gender": 1,
                  "Ethnicity": 0,
                  "Education": 2,
                  "RFFT": 70,
                  "VAT": 5,
                  "CVD": 0,
                  "DM": 0,
                  "Smoking": 0,
                  "Hypertension": 0,
                  "BMI": 22.343515592582,
                  "SBP": 114.5,
                  "DBP": 67,
                  "MAP": 85,
                  "eGFR": 61.2369745945942,
                  "Albuminuria.1": 0,
                  "Albuminuria.2": 1,
                  "Chol": 7.11,
                  "HDL": 1.85,
                  "Statin": 0,
                  "Solubility": 2,
                  "Days": -1,
                  "Years": -1,
                  "DDD": 0,
                  "FRS": 9,
                  "PS": 0.0941757382335038,
                  "PSquint": 2,
                  "GRS": 0,
                  "Match_1": 838,
                  "Match_2": -1,
                  "_deepnote_index_column": 3
                },
                {
                  "Unnamed: 0": 3570,
                  "Casenr": 3570,
                  "Age": 70,
                  "Gender": 0,
                  "Ethnicity": 0,
                  "Education": 2,
                  "RFFT": 35,
                  "VAT": 10,
                  "CVD": 0,
                  "DM": 0,
                  "Smoking": 0,
                  "Hypertension": 0,
                  "BMI": 32.4100370877744,
                  "SBP": 114,
                  "DBP": 72.5,
                  "MAP": 89.5,
                  "eGFR": 88.1461513208299,
                  "Albuminuria.1": 0,
                  "Albuminuria.2": 0,
                  "Chol": 5.04,
                  "HDL": 1.4,
                  "Statin": 0,
                  "Solubility": 2,
                  "Days": -1,
                  "Years": -1,
                  "DDD": 0,
                  "FRS": 12,
                  "PS": 0.193432078049911,
                  "PSquint": 4,
                  "GRS": 1,
                  "Match_1": -1,
                  "Match_2": 276,
                  "_deepnote_index_column": 4
                }
              ],
              "rows_bottom": null
            },
            "text/plain": "   Unnamed: 0  Casenr  Age  Gender  Ethnicity  Education  RFFT  VAT  CVD  DM  \\\n0        2266    2266   55       1          3          2    62   -1    0   1   \n1        3235    3235   65       1          0          1    79   11    0   0   \n2        1068    1068   46       0          2          3    89    6    0   0   \n3        3422    3422   68       1          0          2    70    5    0   0   \n4        3570    3570   70       0          0          2    35   10    0   0   \n\n   ...  Solubility  Days     Years     DDD  FRS        PS  PSquint  GRS  \\\n0  ...           2    -1 -1.000000     0.0    8  0.374275        5    1   \n1  ...           1  1672  4.580822  1373.0   11  0.255946        4    1   \n2  ...           2    -1 -1.000000     0.0   -1  0.128504        3    0   \n3  ...           2    -1 -1.000000     0.0    9  0.094176        2    0   \n4  ...           2    -1 -1.000000     0.0   12  0.193432        4    1   \n\n   Match_1  Match_2  \n0      816      113  \n1      727      242  \n2       -1       -1  \n3      838       -1  \n4       -1      276  \n\n[5 rows x 32 columns]",
            "text/html": "<div>\n<style scoped>\n    .dataframe tbody tr th:only-of-type {\n        vertical-align: middle;\n    }\n\n    .dataframe tbody tr th {\n        vertical-align: top;\n    }\n\n    .dataframe thead th {\n        text-align: right;\n    }\n</style>\n<table border=\"1\" class=\"dataframe\">\n  <thead>\n    <tr style=\"text-align: right;\">\n      <th></th>\n      <th>Unnamed: 0</th>\n      <th>Casenr</th>\n      <th>Age</th>\n      <th>Gender</th>\n      <th>Ethnicity</th>\n      <th>Education</th>\n      <th>RFFT</th>\n      <th>VAT</th>\n      <th>CVD</th>\n      <th>DM</th>\n      <th>...</th>\n      <th>Solubility</th>\n      <th>Days</th>\n      <th>Years</th>\n      <th>DDD</th>\n      <th>FRS</th>\n      <th>PS</th>\n      <th>PSquint</th>\n      <th>GRS</th>\n      <th>Match_1</th>\n      <th>Match_2</th>\n    </tr>\n  </thead>\n  <tbody>\n    <tr>\n      <th>0</th>\n      <td>2266</td>\n      <td>2266</td>\n      <td>55</td>\n      <td>1</td>\n      <td>3</td>\n      <td>2</td>\n      <td>62</td>\n      <td>-1</td>\n      <td>0</td>\n      <td>1</td>\n      <td>...</td>\n      <td>2</td>\n      <td>-1</td>\n      <td>-1.000000</td>\n      <td>0.0</td>\n      <td>8</td>\n      <td>0.374275</td>\n      <td>5</td>\n      <td>1</td>\n      <td>816</td>\n      <td>113</td>\n    </tr>\n    <tr>\n      <th>1</th>\n      <td>3235</td>\n      <td>3235</td>\n      <td>65</td>\n      <td>1</td>\n      <td>0</td>\n      <td>1</td>\n      <td>79</td>\n      <td>11</td>\n      <td>0</td>\n      <td>0</td>\n      <td>...</td>\n      <td>1</td>\n      <td>1672</td>\n      <td>4.580822</td>\n      <td>1373.0</td>\n      <td>11</td>\n      <td>0.255946</td>\n      <td>4</td>\n      <td>1</td>\n      <td>727</td>\n      <td>242</td>\n    </tr>\n    <tr>\n      <th>2</th>\n      <td>1068</td>\n      <td>1068</td>\n      <td>46</td>\n      <td>0</td>\n      <td>2</td>\n      <td>3</td>\n      <td>89</td>\n      <td>6</td>\n      <td>0</td>\n      <td>0</td>\n      <td>...</td>\n      <td>2</td>\n      <td>-1</td>\n      <td>-1.000000</td>\n      <td>0.0</td>\n      <td>-1</td>\n      <td>0.128504</td>\n      <td>3</td>\n      <td>0</td>\n      <td>-1</td>\n      <td>-1</td>\n    </tr>\n    <tr>\n      <th>3</th>\n      <td>3422</td>\n      <td>3422</td>\n      <td>68</td>\n      <td>1</td>\n      <td>0</td>\n      <td>2</td>\n      <td>70</td>\n      <td>5</td>\n      <td>0</td>\n      <td>0</td>\n      <td>...</td>\n      <td>2</td>\n      <td>-1</td>\n      <td>-1.000000</td>\n      <td>0.0</td>\n      <td>9</td>\n      <td>0.094176</td>\n      <td>2</td>\n      <td>0</td>\n      <td>838</td>\n      <td>-1</td>\n    </tr>\n    <tr>\n      <th>4</th>\n      <td>3570</td>\n      <td>3570</td>\n      <td>70</td>\n      <td>0</td>\n      <td>0</td>\n      <td>2</td>\n      <td>35</td>\n      <td>10</td>\n      <td>0</td>\n      <td>0</td>\n      <td>...</td>\n      <td>2</td>\n      <td>-1</td>\n      <td>-1.000000</td>\n      <td>0.0</td>\n      <td>12</td>\n      <td>0.193432</td>\n      <td>4</td>\n      <td>1</td>\n      <td>-1</td>\n      <td>276</td>\n    </tr>\n  </tbody>\n</table>\n<p>5 rows × 32 columns</p>\n</div>"
          },
          "metadata": {}
        }
      ]
    },
    {
      "cell_type": "markdown",
      "source": "## Goal: \n- Analyze the correlation between Cholesterol and other numeric variables\n- Create a model to predict Cholesterol based on another variable ",
      "metadata": {
        "tags": [],
        "cell_id": "00005-08f1c843-b842-42e1-9352-705db4c2dfdb",
        "deepnote_cell_type": "markdown"
      }
    },
    {
      "cell_type": "markdown",
      "source": "##### Step: choose numeric columns",
      "metadata": {
        "tags": [],
        "cell_id": "00006-bed9c817-2685-4444-8dbb-4c14ffcd31df",
        "deepnote_cell_type": "markdown"
      }
    },
    {
      "cell_type": "code",
      "metadata": {
        "tags": [],
        "cell_id": "00005-0821d3f2-bfab-481a-8dfc-b118d2c7bc49",
        "deepnote_to_be_reexecuted": false,
        "source_hash": "a144221a",
        "execution_millis": 1,
        "execution_start": 1618164008845,
        "deepnote_cell_type": "code"
      },
      "source": "health = health[[\"Age\", \"RFFT\", \"BMI\", \"Chol\", \"HDL\"]]",
      "execution_count": 50,
      "outputs": []
    },
    {
      "cell_type": "code",
      "metadata": {
        "tags": [],
        "cell_id": "00005-5be640b4-7915-4239-8d32-19fdcf91b58d",
        "deepnote_to_be_reexecuted": false,
        "source_hash": "9d657209",
        "execution_millis": 25,
        "execution_start": 1618164015965,
        "deepnote_cell_type": "code"
      },
      "source": "health.head()",
      "execution_count": 51,
      "outputs": [
        {
          "output_type": "execute_result",
          "execution_count": 51,
          "data": {
            "application/vnd.deepnote.dataframe.v2+json": {
              "row_count": 5,
              "column_count": 5,
              "columns": [
                {
                  "name": "Age",
                  "dtype": "int64",
                  "stats": {
                    "unique_count": 5,
                    "nan_count": 0,
                    "min": 46,
                    "max": 70,
                    "histogram": [
                      {
                        "bin_start": 46,
                        "bin_end": 48.4,
                        "count": 1
                      },
                      {
                        "bin_start": 48.4,
                        "bin_end": 50.8,
                        "count": 0
                      },
                      {
                        "bin_start": 50.8,
                        "bin_end": 53.2,
                        "count": 0
                      },
                      {
                        "bin_start": 53.2,
                        "bin_end": 55.6,
                        "count": 1
                      },
                      {
                        "bin_start": 55.6,
                        "bin_end": 58,
                        "count": 0
                      },
                      {
                        "bin_start": 58,
                        "bin_end": 60.4,
                        "count": 0
                      },
                      {
                        "bin_start": 60.4,
                        "bin_end": 62.8,
                        "count": 0
                      },
                      {
                        "bin_start": 62.8,
                        "bin_end": 65.2,
                        "count": 1
                      },
                      {
                        "bin_start": 65.2,
                        "bin_end": 67.6,
                        "count": 0
                      },
                      {
                        "bin_start": 67.6,
                        "bin_end": 70,
                        "count": 2
                      }
                    ]
                  }
                },
                {
                  "name": "RFFT",
                  "dtype": "int64",
                  "stats": {
                    "unique_count": 5,
                    "nan_count": 0,
                    "min": 35,
                    "max": 89,
                    "histogram": [
                      {
                        "bin_start": 35,
                        "bin_end": 40.4,
                        "count": 1
                      },
                      {
                        "bin_start": 40.4,
                        "bin_end": 45.8,
                        "count": 0
                      },
                      {
                        "bin_start": 45.8,
                        "bin_end": 51.2,
                        "count": 0
                      },
                      {
                        "bin_start": 51.2,
                        "bin_end": 56.6,
                        "count": 0
                      },
                      {
                        "bin_start": 56.6,
                        "bin_end": 62,
                        "count": 0
                      },
                      {
                        "bin_start": 62,
                        "bin_end": 67.4,
                        "count": 1
                      },
                      {
                        "bin_start": 67.4,
                        "bin_end": 72.80000000000001,
                        "count": 1
                      },
                      {
                        "bin_start": 72.80000000000001,
                        "bin_end": 78.2,
                        "count": 0
                      },
                      {
                        "bin_start": 78.2,
                        "bin_end": 83.6,
                        "count": 1
                      },
                      {
                        "bin_start": 83.6,
                        "bin_end": 89,
                        "count": 1
                      }
                    ]
                  }
                },
                {
                  "name": "BMI",
                  "dtype": "float64",
                  "stats": {
                    "unique_count": 5,
                    "nan_count": 0,
                    "min": 22.343515592582,
                    "max": 39.6694214876033,
                    "histogram": [
                      {
                        "bin_start": 22.343515592582,
                        "bin_end": 24.076106182084132,
                        "count": 2
                      },
                      {
                        "bin_start": 24.076106182084132,
                        "bin_end": 25.808696771586263,
                        "count": 0
                      },
                      {
                        "bin_start": 25.808696771586263,
                        "bin_end": 27.541287361088393,
                        "count": 0
                      },
                      {
                        "bin_start": 27.541287361088393,
                        "bin_end": 29.27387795059052,
                        "count": 1
                      },
                      {
                        "bin_start": 29.27387795059052,
                        "bin_end": 31.00646854009265,
                        "count": 0
                      },
                      {
                        "bin_start": 31.00646854009265,
                        "bin_end": 32.73905912959478,
                        "count": 1
                      },
                      {
                        "bin_start": 32.73905912959478,
                        "bin_end": 34.47164971909691,
                        "count": 0
                      },
                      {
                        "bin_start": 34.47164971909691,
                        "bin_end": 36.20424030859904,
                        "count": 0
                      },
                      {
                        "bin_start": 36.20424030859904,
                        "bin_end": 37.93683089810117,
                        "count": 0
                      },
                      {
                        "bin_start": 37.93683089810117,
                        "bin_end": 39.6694214876033,
                        "count": 1
                      }
                    ]
                  }
                },
                {
                  "name": "Chol",
                  "dtype": "float64",
                  "stats": {
                    "unique_count": 5,
                    "nan_count": 0,
                    "min": 3.86,
                    "max": 7.11,
                    "histogram": [
                      {
                        "bin_start": 3.86,
                        "bin_end": 4.185,
                        "count": 1
                      },
                      {
                        "bin_start": 4.185,
                        "bin_end": 4.51,
                        "count": 0
                      },
                      {
                        "bin_start": 4.51,
                        "bin_end": 4.835,
                        "count": 0
                      },
                      {
                        "bin_start": 4.835,
                        "bin_end": 5.16,
                        "count": 1
                      },
                      {
                        "bin_start": 5.16,
                        "bin_end": 5.485,
                        "count": 0
                      },
                      {
                        "bin_start": 5.485,
                        "bin_end": 5.8100000000000005,
                        "count": 1
                      },
                      {
                        "bin_start": 5.8100000000000005,
                        "bin_end": 6.135,
                        "count": 0
                      },
                      {
                        "bin_start": 6.135,
                        "bin_end": 6.460000000000001,
                        "count": 0
                      },
                      {
                        "bin_start": 6.460000000000001,
                        "bin_end": 6.785,
                        "count": 0
                      },
                      {
                        "bin_start": 6.785,
                        "bin_end": 7.11,
                        "count": 2
                      }
                    ]
                  }
                },
                {
                  "name": "HDL",
                  "dtype": "float64",
                  "stats": {
                    "unique_count": 5,
                    "nan_count": 0,
                    "min": 1.04,
                    "max": 1.85,
                    "histogram": [
                      {
                        "bin_start": 1.04,
                        "bin_end": 1.121,
                        "count": 1
                      },
                      {
                        "bin_start": 1.121,
                        "bin_end": 1.202,
                        "count": 0
                      },
                      {
                        "bin_start": 1.202,
                        "bin_end": 1.283,
                        "count": 0
                      },
                      {
                        "bin_start": 1.283,
                        "bin_end": 1.364,
                        "count": 0
                      },
                      {
                        "bin_start": 1.364,
                        "bin_end": 1.445,
                        "count": 1
                      },
                      {
                        "bin_start": 1.445,
                        "bin_end": 1.526,
                        "count": 0
                      },
                      {
                        "bin_start": 1.526,
                        "bin_end": 1.6070000000000002,
                        "count": 2
                      },
                      {
                        "bin_start": 1.6070000000000002,
                        "bin_end": 1.6880000000000002,
                        "count": 0
                      },
                      {
                        "bin_start": 1.6880000000000002,
                        "bin_end": 1.7690000000000001,
                        "count": 0
                      },
                      {
                        "bin_start": 1.7690000000000001,
                        "bin_end": 1.85,
                        "count": 1
                      }
                    ]
                  }
                },
                {
                  "name": "_deepnote_index_column",
                  "dtype": "int64"
                }
              ],
              "rows_top": [
                {
                  "Age": 55,
                  "RFFT": 62,
                  "BMI": 39.6694214876033,
                  "Chol": 3.86,
                  "HDL": 1.54,
                  "_deepnote_index_column": 0
                },
                {
                  "Age": 65,
                  "RFFT": 79,
                  "BMI": 28.9811434378411,
                  "Chol": 5.64,
                  "HDL": 1.53,
                  "_deepnote_index_column": 1
                },
                {
                  "Age": 46,
                  "RFFT": 89,
                  "BMI": 23.2334561768947,
                  "Chol": 6.83,
                  "HDL": 1.04,
                  "_deepnote_index_column": 2
                },
                {
                  "Age": 68,
                  "RFFT": 70,
                  "BMI": 22.343515592582,
                  "Chol": 7.11,
                  "HDL": 1.85,
                  "_deepnote_index_column": 3
                },
                {
                  "Age": 70,
                  "RFFT": 35,
                  "BMI": 32.4100370877744,
                  "Chol": 5.04,
                  "HDL": 1.4,
                  "_deepnote_index_column": 4
                }
              ],
              "rows_bottom": null
            },
            "text/plain": "   Age  RFFT        BMI  Chol   HDL\n0   55    62  39.669421  3.86  1.54\n1   65    79  28.981143  5.64  1.53\n2   46    89  23.233456  6.83  1.04\n3   68    70  22.343516  7.11  1.85\n4   70    35  32.410037  5.04  1.40",
            "text/html": "<div>\n<style scoped>\n    .dataframe tbody tr th:only-of-type {\n        vertical-align: middle;\n    }\n\n    .dataframe tbody tr th {\n        vertical-align: top;\n    }\n\n    .dataframe thead th {\n        text-align: right;\n    }\n</style>\n<table border=\"1\" class=\"dataframe\">\n  <thead>\n    <tr style=\"text-align: right;\">\n      <th></th>\n      <th>Age</th>\n      <th>RFFT</th>\n      <th>BMI</th>\n      <th>Chol</th>\n      <th>HDL</th>\n    </tr>\n  </thead>\n  <tbody>\n    <tr>\n      <th>0</th>\n      <td>55</td>\n      <td>62</td>\n      <td>39.669421</td>\n      <td>3.86</td>\n      <td>1.54</td>\n    </tr>\n    <tr>\n      <th>1</th>\n      <td>65</td>\n      <td>79</td>\n      <td>28.981143</td>\n      <td>5.64</td>\n      <td>1.53</td>\n    </tr>\n    <tr>\n      <th>2</th>\n      <td>46</td>\n      <td>89</td>\n      <td>23.233456</td>\n      <td>6.83</td>\n      <td>1.04</td>\n    </tr>\n    <tr>\n      <th>3</th>\n      <td>68</td>\n      <td>70</td>\n      <td>22.343516</td>\n      <td>7.11</td>\n      <td>1.85</td>\n    </tr>\n    <tr>\n      <th>4</th>\n      <td>70</td>\n      <td>35</td>\n      <td>32.410037</td>\n      <td>5.04</td>\n      <td>1.40</td>\n    </tr>\n  </tbody>\n</table>\n</div>"
          },
          "metadata": {}
        }
      ]
    },
    {
      "cell_type": "markdown",
      "source": "#### step: create scatterplots of Chol with other variables ",
      "metadata": {
        "tags": [],
        "cell_id": "00009-eafd4835-05ce-4f52-ad5f-0e700cfdb37c",
        "deepnote_cell_type": "markdown"
      }
    },
    {
      "cell_type": "code",
      "metadata": {
        "tags": [],
        "cell_id": "00008-d0f499b0-564f-46fc-a427-e98176166788",
        "deepnote_to_be_reexecuted": false,
        "source_hash": "61e60220",
        "execution_millis": 771,
        "execution_start": 1618164055978,
        "deepnote_cell_type": "code"
      },
      "source": "fig, ax = plt.subplots(1, 5, figsize=(16,6))\n\nfor i,col in enumerate(health[1:]):\n     sns.regplot(x=health[col], y=health[\"Chol\"], ax=ax[i], fit_reg = False)\n\nfig.suptitle('Scatter Plots with Chol')\nfig.tight_layout()\nfig.subplots_adjust(top=0.95)\n\nplt.show()\nplt.clf()\nplt.close()\n",
      "execution_count": 52,
      "outputs": [
        {
          "data": {
            "text/plain": "<Figure size 1152x432 with 5 Axes>",
            "image/png": "[encoded data removed]"
          },
          "metadata": {
            "needs_background": "light"
          },
          "output_type": "display_data"
        }
      ]
    },
    {
      "cell_type": "markdown",
      "source": "#### Goal: find the line of \"best fit\", i.e. a line that on average best represents the given data ",
      "metadata": {
        "tags": [],
        "cell_id": "00010-36034440-fc32-4dd9-9292-5fa9312763d4",
        "deepnote_cell_type": "markdown"
      }
    },
    {
      "cell_type": "code",
      "metadata": {
        "tags": [],
        "cell_id": "00013-d896f0bd-6a0c-4c6a-a3c6-be97c41c5c8c",
        "deepnote_to_be_reexecuted": false,
        "source_hash": "8ce0e1e4",
        "execution_millis": 185,
        "execution_start": 1618164348097,
        "deepnote_cell_type": "code"
      },
      "source": "col = \"HDL\"\nfig, ax = plt.subplots(figsize=(16,6))\nplt.scatter(x=health[col], y=health[\"Chol\"])\nfig.suptitle('HDL and Chol')\n\nx = np.arange(-1, 5, 1)\nslope = 0.75\nintercept = 4 \ny = slope * x + intercept\nplt.plot(x,y, color = \"red\")",
      "execution_count": 57,
      "outputs": [
        {
          "output_type": "execute_result",
          "execution_count": 57,
          "data": {
            "text/plain": "[<matplotlib.lines.Line2D at 0x7f8dae971950>]"
          },
          "metadata": {}
        },
        {
          "data": {
            "text/plain": "<Figure size 1152x432 with 1 Axes>",
            "image/png": "[encoded data removed]"
          },
          "metadata": {
            "needs_background": "light"
          },
          "output_type": "display_data"
        }
      ]
    },
    {
      "cell_type": "markdown",
      "source": "##### This line can serve as our predictions line. But how do we know how good is our line?  ",
      "metadata": {
        "tags": [],
        "cell_id": "00013-9b4607b5-9729-49d5-a0b6-6499bb54e1a5",
        "deepnote_cell_type": "markdown"
      }
    },
    {
      "cell_type": "markdown",
      "source": "### Error Term (Residual) \nAfter we choose a line, each x will have one predicted value and an actual observed value. The difference between these two is called the error term. ",
      "metadata": {
        "tags": [],
        "cell_id": "00014-ddac6bd1-9370-4947-8538-d56a5f72095b",
        "deepnote_cell_type": "markdown"
      }
    },
    {
      "cell_type": "code",
      "metadata": {
        "tags": [],
        "cell_id": "00013-9f27b188-1d3c-4150-b95d-4aaaebb3973f",
        "deepnote_to_be_reexecuted": false,
        "source_hash": "5caedfe",
        "execution_millis": 8,
        "execution_start": 1618164432283,
        "deepnote_cell_type": "code"
      },
      "source": "x = 1\npredicted = slope * x + intercept \nprint(\"Predicted =\", predicted)\nobserved = health[health[\"HDL\"] == 1]",
      "execution_count": 58,
      "outputs": [
        {
          "name": "stdout",
          "text": "Predicted = 4.75\n",
          "output_type": "stream"
        }
      ]
    },
    {
      "cell_type": "code",
      "metadata": {
        "tags": [],
        "cell_id": "00016-edf66873-4ba8-4c3f-b56e-fa6c903a2e33",
        "deepnote_to_be_reexecuted": false,
        "source_hash": "2e5bed3a",
        "execution_millis": 26,
        "execution_start": 1618164442120,
        "deepnote_cell_type": "code"
      },
      "source": "observed",
      "execution_count": 59,
      "outputs": [
        {
          "output_type": "execute_result",
          "execution_count": 59,
          "data": {
            "application/vnd.deepnote.dataframe.v2+json": {
              "row_count": 2,
              "column_count": 5,
              "columns": [
                {
                  "name": "Age",
                  "dtype": "int64",
                  "stats": {
                    "unique_count": 2,
                    "nan_count": 0,
                    "min": 45,
                    "max": 55,
                    "histogram": [
                      {
                        "bin_start": 45,
                        "bin_end": 46,
                        "count": 1
                      },
                      {
                        "bin_start": 46,
                        "bin_end": 47,
                        "count": 0
                      },
                      {
                        "bin_start": 47,
                        "bin_end": 48,
                        "count": 0
                      },
                      {
                        "bin_start": 48,
                        "bin_end": 49,
                        "count": 0
                      },
                      {
                        "bin_start": 49,
                        "bin_end": 50,
                        "count": 0
                      },
                      {
                        "bin_start": 50,
                        "bin_end": 51,
                        "count": 0
                      },
                      {
                        "bin_start": 51,
                        "bin_end": 52,
                        "count": 0
                      },
                      {
                        "bin_start": 52,
                        "bin_end": 53,
                        "count": 0
                      },
                      {
                        "bin_start": 53,
                        "bin_end": 54,
                        "count": 0
                      },
                      {
                        "bin_start": 54,
                        "bin_end": 55,
                        "count": 1
                      }
                    ]
                  }
                },
                {
                  "name": "RFFT",
                  "dtype": "int64",
                  "stats": {
                    "unique_count": 2,
                    "nan_count": 0,
                    "min": 46,
                    "max": 100,
                    "histogram": [
                      {
                        "bin_start": 46,
                        "bin_end": 51.4,
                        "count": 1
                      },
                      {
                        "bin_start": 51.4,
                        "bin_end": 56.8,
                        "count": 0
                      },
                      {
                        "bin_start": 56.8,
                        "bin_end": 62.2,
                        "count": 0
                      },
                      {
                        "bin_start": 62.2,
                        "bin_end": 67.6,
                        "count": 0
                      },
                      {
                        "bin_start": 67.6,
                        "bin_end": 73,
                        "count": 0
                      },
                      {
                        "bin_start": 73,
                        "bin_end": 78.4,
                        "count": 0
                      },
                      {
                        "bin_start": 78.4,
                        "bin_end": 83.80000000000001,
                        "count": 0
                      },
                      {
                        "bin_start": 83.80000000000001,
                        "bin_end": 89.2,
                        "count": 0
                      },
                      {
                        "bin_start": 89.2,
                        "bin_end": 94.6,
                        "count": 0
                      },
                      {
                        "bin_start": 94.6,
                        "bin_end": 100,
                        "count": 1
                      }
                    ]
                  }
                },
                {
                  "name": "BMI",
                  "dtype": "float64",
                  "stats": {
                    "unique_count": 2,
                    "nan_count": 0,
                    "min": 24.2512783053324,
                    "max": 27.9226871833365,
                    "histogram": [
                      {
                        "bin_start": 24.2512783053324,
                        "bin_end": 24.61841919313281,
                        "count": 1
                      },
                      {
                        "bin_start": 24.61841919313281,
                        "bin_end": 24.98556008093322,
                        "count": 0
                      },
                      {
                        "bin_start": 24.98556008093322,
                        "bin_end": 25.35270096873363,
                        "count": 0
                      },
                      {
                        "bin_start": 25.35270096873363,
                        "bin_end": 25.71984185653404,
                        "count": 0
                      },
                      {
                        "bin_start": 25.71984185653404,
                        "bin_end": 26.08698274433445,
                        "count": 0
                      },
                      {
                        "bin_start": 26.08698274433445,
                        "bin_end": 26.45412363213486,
                        "count": 0
                      },
                      {
                        "bin_start": 26.45412363213486,
                        "bin_end": 26.82126451993527,
                        "count": 0
                      },
                      {
                        "bin_start": 26.82126451993527,
                        "bin_end": 27.18840540773568,
                        "count": 0
                      },
                      {
                        "bin_start": 27.18840540773568,
                        "bin_end": 27.55554629553609,
                        "count": 0
                      },
                      {
                        "bin_start": 27.55554629553609,
                        "bin_end": 27.9226871833365,
                        "count": 1
                      }
                    ]
                  }
                },
                {
                  "name": "Chol",
                  "dtype": "float64",
                  "stats": {
                    "unique_count": 2,
                    "nan_count": 0,
                    "min": 4.86,
                    "max": 5.34,
                    "histogram": [
                      {
                        "bin_start": 4.86,
                        "bin_end": 4.908,
                        "count": 1
                      },
                      {
                        "bin_start": 4.908,
                        "bin_end": 4.956,
                        "count": 0
                      },
                      {
                        "bin_start": 4.956,
                        "bin_end": 5.0040000000000004,
                        "count": 0
                      },
                      {
                        "bin_start": 5.0040000000000004,
                        "bin_end": 5.0520000000000005,
                        "count": 0
                      },
                      {
                        "bin_start": 5.0520000000000005,
                        "bin_end": 5.1,
                        "count": 0
                      },
                      {
                        "bin_start": 5.1,
                        "bin_end": 5.148,
                        "count": 0
                      },
                      {
                        "bin_start": 5.148,
                        "bin_end": 5.196,
                        "count": 0
                      },
                      {
                        "bin_start": 5.196,
                        "bin_end": 5.244,
                        "count": 0
                      },
                      {
                        "bin_start": 5.244,
                        "bin_end": 5.292,
                        "count": 0
                      },
                      {
                        "bin_start": 5.292,
                        "bin_end": 5.34,
                        "count": 1
                      }
                    ]
                  }
                },
                {
                  "name": "HDL",
                  "dtype": "float64",
                  "stats": {
                    "unique_count": 1,
                    "nan_count": 0,
                    "min": 1,
                    "max": 1,
                    "histogram": [
                      {
                        "bin_start": 0.5,
                        "bin_end": 0.6,
                        "count": 0
                      },
                      {
                        "bin_start": 0.6,
                        "bin_end": 0.7,
                        "count": 0
                      },
                      {
                        "bin_start": 0.7,
                        "bin_end": 0.8,
                        "count": 0
                      },
                      {
                        "bin_start": 0.8,
                        "bin_end": 0.9,
                        "count": 0
                      },
                      {
                        "bin_start": 0.9,
                        "bin_end": 1,
                        "count": 0
                      },
                      {
                        "bin_start": 1,
                        "bin_end": 1.1,
                        "count": 2
                      },
                      {
                        "bin_start": 1.1,
                        "bin_end": 1.2000000000000002,
                        "count": 0
                      },
                      {
                        "bin_start": 1.2000000000000002,
                        "bin_end": 1.3,
                        "count": 0
                      },
                      {
                        "bin_start": 1.3,
                        "bin_end": 1.4,
                        "count": 0
                      },
                      {
                        "bin_start": 1.4,
                        "bin_end": 1.5,
                        "count": 0
                      }
                    ]
                  }
                },
                {
                  "name": "_deepnote_index_column",
                  "dtype": "int64"
                }
              ],
              "rows_top": [
                {
                  "Age": 45,
                  "RFFT": 46,
                  "BMI": 24.2512783053324,
                  "Chol": 4.86,
                  "HDL": 1,
                  "_deepnote_index_column": 84
                },
                {
                  "Age": 55,
                  "RFFT": 100,
                  "BMI": 27.9226871833365,
                  "Chol": 5.34,
                  "HDL": 1,
                  "_deepnote_index_column": 425
                }
              ],
              "rows_bottom": null
            },
            "text/plain": "     Age  RFFT        BMI  Chol  HDL\n84    45    46  24.251278  4.86  1.0\n425   55   100  27.922687  5.34  1.0",
            "text/html": "<div>\n<style scoped>\n    .dataframe tbody tr th:only-of-type {\n        vertical-align: middle;\n    }\n\n    .dataframe tbody tr th {\n        vertical-align: top;\n    }\n\n    .dataframe thead th {\n        text-align: right;\n    }\n</style>\n<table border=\"1\" class=\"dataframe\">\n  <thead>\n    <tr style=\"text-align: right;\">\n      <th></th>\n      <th>Age</th>\n      <th>RFFT</th>\n      <th>BMI</th>\n      <th>Chol</th>\n      <th>HDL</th>\n    </tr>\n  </thead>\n  <tbody>\n    <tr>\n      <th>84</th>\n      <td>45</td>\n      <td>46</td>\n      <td>24.251278</td>\n      <td>4.86</td>\n      <td>1.0</td>\n    </tr>\n    <tr>\n      <th>425</th>\n      <td>55</td>\n      <td>100</td>\n      <td>27.922687</td>\n      <td>5.34</td>\n      <td>1.0</td>\n    </tr>\n  </tbody>\n</table>\n</div>"
          },
          "metadata": {}
        }
      ]
    },
    {
      "cell_type": "code",
      "metadata": {
        "tags": [],
        "cell_id": "00017-a45eb013-2053-4d8d-96dd-3f05dce586ae",
        "deepnote_to_be_reexecuted": false,
        "source_hash": "18343f54",
        "execution_millis": 5,
        "execution_start": 1618164476505,
        "deepnote_cell_type": "code"
      },
      "source": "errors = predicted - observed[\"Chol\"] \nerrors",
      "execution_count": 60,
      "outputs": [
        {
          "output_type": "execute_result",
          "execution_count": 60,
          "data": {
            "text/plain": "84    -0.11\n425   -0.59\nName: Chol, dtype: float64"
          },
          "metadata": {}
        }
      ]
    },
    {
      "cell_type": "markdown",
      "source": "##### Doing this for each x and adding it together gives us the total error of our model. Then, we just need to find the line which minimizes this error. ",
      "metadata": {
        "tags": [],
        "cell_id": "00018-64c58099-b832-4b70-87c6-cf03492a2a47",
        "deepnote_cell_type": "markdown"
      }
    },
    {
      "cell_type": "markdown",
      "source": "##### Problem: some errors are negative and some are positive. If we add them up they will cancel each other and make it seem like there is no error. How can we fix this? ",
      "metadata": {
        "tags": [],
        "cell_id": "00020-c9b5c7d0-2c41-41ad-9b53-ba75b1f72a03",
        "deepnote_cell_type": "markdown"
      }
    },
    {
      "cell_type": "markdown",
      "source": "",
      "metadata": {
        "tags": [],
        "cell_id": "00020-f3c6fe18-a799-41d9-a764-d3b8ee43e457",
        "deepnote_cell_type": "markdown"
      }
    },
    {
      "cell_type": "markdown",
      "source": "#### Solution: Mean Squared Error (MSE)\n![MSE](Mean-Squared-Error-formula-used-to-evaluate-the-user-model.png)\n",
      "metadata": {
        "tags": [],
        "cell_id": "00021-6a64549e-986c-4ec6-843a-bd649fe762ef",
        "deepnote_cell_type": "markdown"
      }
    },
    {
      "cell_type": "markdown",
      "source": "![Wrong but Useful](models_are_wrong.jpg)",
      "metadata": {
        "tags": [],
        "cell_id": "00022-eb4204db-4148-498e-a72b-34692b66c23b",
        "deepnote_cell_type": "markdown"
      }
    },
    {
      "cell_type": "markdown",
      "source": "",
      "metadata": {
        "tags": [],
        "cell_id": "00024-b59e8a7a-aa18-4b1b-8528-349911220efc",
        "deepnote_cell_type": "markdown"
      }
    },
    {
      "cell_type": "markdown",
      "source": "### Building the model with SkLearn Library\n##### Step 1: Split dataset into train and test sets \n",
      "metadata": {
        "tags": [],
        "cell_id": "00023-cddd5b57-7dbe-4833-b34f-9de126f9fec8",
        "deepnote_cell_type": "markdown"
      }
    },
    {
      "cell_type": "code",
      "metadata": {
        "tags": [],
        "cell_id": "00024-a330948e-faac-4cbe-bb85-2c5ec64fbcd3",
        "deepnote_to_be_reexecuted": false,
        "source_hash": "8cd3e09a",
        "execution_millis": 3,
        "execution_start": 1618158533181,
        "deepnote_cell_type": "code"
      },
      "source": "X = health[[\"HDL\"]]\ny = health[\"Chol\"]\nX_train, X_test, y_train, y_test = train_test_split(X, y, train_size = 0.7, test_size = 0.3, random_state = 100)",
      "execution_count": 27,
      "outputs": []
    },
    {
      "cell_type": "markdown",
      "source": "##### Step 2: train the model using the training set",
      "metadata": {
        "tags": [],
        "cell_id": "00026-90312f3c-ad53-4e35-abea-8bf5f0eeb137",
        "deepnote_cell_type": "markdown"
      }
    },
    {
      "cell_type": "code",
      "metadata": {
        "tags": [],
        "cell_id": "00025-2f76eae7-873c-4f1f-96d5-a3d8e4edd22f",
        "deepnote_to_be_reexecuted": false,
        "source_hash": "8a104fe7",
        "execution_millis": 11,
        "execution_start": 1618158535900,
        "deepnote_cell_type": "code"
      },
      "source": "model = LinearRegression()\nmodel.fit(X_train, y_train)\nmodel",
      "execution_count": 28,
      "outputs": [
        {
          "output_type": "execute_result",
          "execution_count": 28,
          "data": {
            "text/plain": "LinearRegression()"
          },
          "metadata": {}
        }
      ]
    },
    {
      "cell_type": "code",
      "metadata": {
        "tags": [],
        "cell_id": "00028-29515d06-f413-4fd8-874a-730a029acb52",
        "deepnote_to_be_reexecuted": false,
        "source_hash": "c436cdb0",
        "execution_millis": 264,
        "execution_start": 1618164954737,
        "deepnote_cell_type": "code"
      },
      "source": "fig, ax = plt.subplots(1, 1, figsize=(16,6))\nsns.regplot(X_train, y_train, fit_reg = True)\nplt.show();\n\nprint(\"regression intercept:\", model.intercept_)\nprint(\"regression slope:\",model.coef_)\n\nprint(\"prediceted interseot:\", intercept)\nprint(\"prediceted slope:\", slope)\n\n\n",
      "execution_count": 61,
      "outputs": [
        {
          "name": "stderr",
          "text": "/shared-libs/python3.7/py/lib/python3.7/site-packages/seaborn/_decorators.py:43: FutureWarning: Pass the following variables as keyword args: x, y. From version 0.12, the only valid positional argument will be `data`, and passing other arguments without an explicit keyword will result in an error or misinterpretation.\n  FutureWarning\n",
          "output_type": "stream"
        },
        {
          "data": {
            "text/plain": "<Figure size 1152x432 with 1 Axes>",
            "image/png": "[encoded data removed]"
          },
          "metadata": {
            "needs_background": "light"
          },
          "output_type": "display_data"
        },
        {
          "name": "stdout",
          "text": "regression intercept: 4.7481166026466175\nregression slope: [0.4337869]\nprediceted interseot: 4\nprediceted slope: 0.75\n",
          "output_type": "stream"
        }
      ]
    },
    {
      "cell_type": "markdown",
      "source": "##### Step 3: Predict ",
      "metadata": {
        "tags": [],
        "cell_id": "00029-91ffa43d-ec5c-4947-948d-94c59baa40bd",
        "deepnote_cell_type": "markdown"
      }
    },
    {
      "cell_type": "code",
      "metadata": {
        "tags": [],
        "cell_id": "00030-45f4834a-480b-4d05-82c1-c66ad1e36fdf",
        "deepnote_to_be_reexecuted": false,
        "source_hash": "4417c7f0",
        "execution_millis": 11,
        "execution_start": 1618158538335,
        "deepnote_cell_type": "code"
      },
      "source": "model.predict([[1.5]])",
      "execution_count": 30,
      "outputs": [
        {
          "output_type": "execute_result",
          "execution_count": 30,
          "data": {
            "text/plain": "array([5.39879695])"
          },
          "metadata": {}
        }
      ]
    },
    {
      "cell_type": "markdown",
      "source": "### Evaluating the model ",
      "metadata": {
        "tags": [],
        "cell_id": "00031-4344747e-7423-47e6-a99f-4e6be47fb26c",
        "deepnote_cell_type": "markdown"
      }
    },
    {
      "cell_type": "markdown",
      "source": "#### Calculating the R^2 score with sklearn\n[Calculating R^2 by hand](https://www.google.com/search?q=how+to+calculate+r+squared+linear+regression&rlz=1C5CHFA_enUS931US931&oq=how+to+calculate+r%5E2+linear+reg&aqs=chrome.1.69i57j0i22i30l8j0i390.7002j0j7&sourceid=chrome&ie=UTF-8#kpvalbx=_lChzYOlTgrG1BtrproAO25)",
      "metadata": {
        "tags": [],
        "cell_id": "00028-f57af424-3e3d-4a38-b579-44aad67527dc",
        "deepnote_cell_type": "markdown"
      }
    },
    {
      "cell_type": "code",
      "metadata": {
        "tags": [],
        "cell_id": "00028-ea3ec4db-4ef2-496b-9614-f305a0bc18b2",
        "deepnote_to_be_reexecuted": false,
        "source_hash": "37427f7e",
        "execution_millis": 11,
        "execution_start": 1618158543937,
        "deepnote_cell_type": "code"
      },
      "source": "train_predictions = model.predict(X_train)\n\n#### r2_score is a function from sklearn library\nr2_score(y_train, train_predictions)\n\n#### mean_squared_error is a function form sklearn library\nmean_squared_error(y_train, train_predictions)\n\nprint(\"Train R^2 score:\", r2_score(y_train, train_predictions))\nprint(\"Train MSE:\", mean_squared_error(y_train, train_predictions) )",
      "execution_count": 31,
      "outputs": [
        {
          "name": "stdout",
          "text": "Train R^2 score: 0.027682161067329347\nTrain MSE: 1.0883629363994094\n",
          "output_type": "stream"
        }
      ]
    },
    {
      "cell_type": "code",
      "metadata": {
        "tags": [],
        "cell_id": "00026-cdc656ca-9c76-4a2e-ae53-cc87183dd178",
        "deepnote_to_be_reexecuted": false,
        "source_hash": "4b2ab8eb",
        "execution_millis": 11,
        "execution_start": 1618158549279,
        "deepnote_cell_type": "code"
      },
      "source": "test_predictions = model.predict(X_test)\nr2_score(y_test, test_predictions)\n\n#### r2_score is a function from sklearn library\nr2_score(y_test, test_predictions)\n\n#### mean_squared_error is a function form sklearn library\nmean_squared_error(y_test, test_predictions)\n\nprint(\"Test R^2 score:\", r2_score(y_test, test_predictions))\nprint(\"Test MSE:\", mean_squared_error(y_test, test_predictions) )",
      "execution_count": 32,
      "outputs": [
        {
          "name": "stdout",
          "text": "Test R^2 score: 0.0482635807063968\nTest MSE: 1.2976698887010147\n",
          "output_type": "stream"
        }
      ]
    },
    {
      "cell_type": "markdown",
      "source": "#### Correlation Coefficient R \n- 𝑟 is a number between −1 and 1.\n- r measures the extent to which the scatter plot clusters around a straight line.\n- r = 1 if the scatter diagram is a perfect straight line sloping upwards, and r ",
      "metadata": {
        "tags": [],
        "cell_id": "00035-b8afefe6-ea1e-4b70-8d5f-d1be50c29179",
        "deepnote_cell_type": "markdown"
      }
    },
    {
      "cell_type": "markdown",
      "source": "![Correlation](r.jpg)",
      "metadata": {
        "tags": [],
        "cell_id": "00037-527e7911-cfcc-4cf4-96ef-d999f7d14ea5",
        "deepnote_cell_type": "markdown"
      }
    },
    {
      "cell_type": "markdown",
      "source": "",
      "metadata": {
        "tags": [],
        "cell_id": "00038-17cc06e0-34fe-4059-b57e-a2823f552544",
        "deepnote_cell_type": "markdown"
      }
    },
    {
      "cell_type": "markdown",
      "source": "### Assumptions of Linear Regression\n1. Linearity: The data show a linear trend\n2. Constant variability: The variability of the response variable about the line remains roughly constant as the predictor variable changes\n3. Independent observations: The (x,y) pairs are independent.\n4. Approximate normality of residuals",
      "metadata": {
        "tags": [],
        "cell_id": "00038-a5a0ba91-8b94-4394-96f1-d553f34945b7",
        "deepnote_cell_type": "markdown"
      }
    },
    {
      "cell_type": "code",
      "metadata": {
        "tags": [],
        "cell_id": "00039-a3e79d57-f86f-4527-8298-ae3c6a9c6553",
        "deepnote_to_be_reexecuted": false,
        "source_hash": "bcfc4014",
        "execution_millis": 4,
        "execution_start": 1618113909265,
        "deepnote_cell_type": "code"
      },
      "source": "predicted = model.predict(X_train)\nobserved = y_train \nresidual = predicted - observed ",
      "execution_count": null,
      "outputs": []
    },
    {
      "cell_type": "code",
      "metadata": {
        "tags": [],
        "cell_id": "00040-885e7b47-6b68-4c6e-a862-f642eb65c52a",
        "deepnote_to_be_reexecuted": false,
        "source_hash": "467cd325",
        "execution_millis": 357,
        "execution_start": 1618114122488,
        "deepnote_cell_type": "code"
      },
      "source": "plt.scatter(predicted, residual)\nplt.xlabel(\"Predicted\")\nplt.ylabel(\"Residual\")\nx = np.arange(4, 7, 1)\nslope = 0\nintercept = 0\ny = slope * x + intercept\nplt.plot(x,y, color = \"red\")",
      "execution_count": null,
      "outputs": [
        {
          "output_type": "execute_result",
          "execution_count": 93,
          "data": {
            "text/plain": "[<matplotlib.lines.Line2D at 0x7fb5fa3c3410>]"
          },
          "metadata": {}
        },
        {
          "data": {
            "text/plain": "<Figure size 432x288 with 1 Axes>",
            "image/png": "[encoded data removed]"
          },
          "metadata": {
            "needs_background": "light"
          },
          "output_type": "display_data"
        }
      ]
    },
    {
      "cell_type": "markdown",
      "source": "#### Final Note \n![Correlation](correlation.png)",
      "metadata": {
        "tags": [],
        "cell_id": "00042-0c81d6d5-c881-41ff-b1ee-5343f52819b0",
        "deepnote_cell_type": "markdown"
      }
    },
    {
      "cell_type": "code",
      "metadata": {
        "tags": [],
        "cell_id": "00041-d60c69ed-a095-4cb2-8885-75b9e9dfc27c",
        "deepnote_cell_type": "code"
      },
      "source": "",
      "execution_count": null,
      "outputs": []
    },
    {
      "cell_type": "markdown",
      "source": "",
      "metadata": {
        "tags": [],
        "cell_id": "00043-5e721a9b-9569-4c7c-8005-7eee530ca46c",
        "deepnote_cell_type": "markdown"
      }
    },
    {
      "cell_type": "markdown",
      "source": "<a style='text-decoration:none;line-height:16px;display:flex;color:#5B5B62;padding:10px;justify-content:end;' href='https://deepnote.com?utm_source=created-in-deepnote-cell&projectId=bc310c6d-38f4-4996-9449-9d21f317cc9a' target=\"_blank\">\n<img alt='Created in deepnote.com' style='display:inline;max-height:16px;margin:0px;margin-right:7.5px;' src='data:image/svg+xml;base64,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' > </img>\nCreated in <span style='font-weight:600;margin-left:4px;'>Deepnote</span></a>",
      "metadata": {
        "tags": [],
        "created_in_deepnote_cell": true,
        "deepnote_cell_type": "markdown"
      }
    }
  ],
  "nbformat": 4,
  "nbformat_minor": 2,
  "metadata": {
    "orig_nbformat": 2,
    "deepnote": {
      "is_reactive": false
    },
    "deepnote_notebook_id": "fbf6540e-d0c4-495a-a94a-81bca08126c0",
    "deepnote_execution_queue": []
  }
}