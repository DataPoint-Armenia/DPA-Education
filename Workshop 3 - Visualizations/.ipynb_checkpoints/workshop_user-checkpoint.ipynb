{
 "cells": [
  {
   "cell_type": "markdown",
   "metadata": {},
   "source": [
    "## Amberd Workshop #3\n",
    "## Visualizations\n",
    "## For DPA, by DPA\n",
    "##### Taline Mardirossian"
   ]
  },
  {
   "cell_type": "markdown",
   "metadata": {},
   "source": [
    "first off, lets import some useful packages"
   ]
  },
  {
   "cell_type": "code",
   "execution_count": null,
   "metadata": {},
   "outputs": [],
   "source": [
    "import pandas as pd\n",
    "import numpy as np\n",
    "import matplotlib.pyplot as plt\n",
    "import seaborn as sns"
   ]
  },
  {
   "cell_type": "markdown",
   "metadata": {},
   "source": [
    "### 1. this dataset consists of co2 emission data per country "
   ]
  },
  {
   "cell_type": "code",
   "execution_count": null,
   "metadata": {},
   "outputs": [],
   "source": [
    "co2 = pd.read_excel('CO2Emissions.xls', header = 3)"
   ]
  },
  {
   "cell_type": "code",
   "execution_count": null,
   "metadata": {},
   "outputs": [],
   "source": [
    "co2.head()"
   ]
  },
  {
   "cell_type": "code",
   "execution_count": null,
   "metadata": {},
   "outputs": [],
   "source": [
    "# we usually dont want nan values in data, lets see what happens when we drop na\n",
    "\n",
    "co2."
   ]
  },
  {
   "cell_type": "markdown",
   "metadata": {},
   "source": [
    "as we can see, this data isn't comprehensive enough to be abnle to drop all rows with any nans and have any leftover data.\n",
    "what we want to do now is select the specific countries that are relevant to us, and filter that down to have better data"
   ]
  },
  {
   "cell_type": "code",
   "execution_count": null,
   "metadata": {},
   "outputs": [],
   "source": [
    "# cleaning up the data: lets set the index to be the counry, and transpose it so the data and columns are more usable\n",
    "# note: inplace = True drops the items you specify immediately, without the need to reassign values \n",
    "\n",
    "co2.\n",
    "co2 = co2.T\n",
    "\n",
    "# there are some rows that contain useless information, so we will be dropping those as well\n",
    "co2.drop(['Country Code', 'Indicator Name', 'Indicator Code'], axis = 0, inplace = True)"
   ]
  },
  {
   "cell_type": "code",
   "execution_count": null,
   "metadata": {
    "scrolled": true
   },
   "outputs": [],
   "source": [
    "co2"
   ]
  },
  {
   "cell_type": "code",
   "execution_count": null,
   "metadata": {},
   "outputs": [],
   "source": [
    "# here, we select some interesting countries. What countries would you like to look at? \n",
    "\n",
    "countries = []\n",
    "co2 = co2[countries]"
   ]
  },
  {
   "cell_type": "code",
   "execution_count": null,
   "metadata": {
    "scrolled": true
   },
   "outputs": [],
   "source": [
    "co2"
   ]
  },
  {
   "cell_type": "code",
   "execution_count": null,
   "metadata": {},
   "outputs": [],
   "source": [
    "# now, in order to have a full dataset void of NaN values, we can run this command \n",
    "\n",
    "co2.dropna(inplace = True)"
   ]
  },
  {
   "cell_type": "code",
   "execution_count": null,
   "metadata": {
    "scrolled": true
   },
   "outputs": [],
   "source": [
    "co2"
   ]
  },
  {
   "cell_type": "markdown",
   "metadata": {},
   "source": [
    "###### 1a. Lets start with the basics. how would you make a line plot, plotting the five countries' co2 emission data, on the same plot?"
   ]
  },
  {
   "cell_type": "code",
   "execution_count": null,
   "metadata": {
    "scrolled": true
   },
   "outputs": [],
   "source": [
    "plt."
   ]
  },
  {
   "cell_type": "markdown",
   "metadata": {},
   "source": [
    "now of course this looks like garbage. can you explain why?"
   ]
  },
  {
   "cell_type": "code",
   "execution_count": null,
   "metadata": {},
   "outputs": [],
   "source": [
    "plt.\n"
   ]
  },
  {
   "cell_type": "markdown",
   "metadata": {},
   "source": [
    "now, lets see how it looks as a scatterplot"
   ]
  },
  {
   "cell_type": "code",
   "execution_count": null,
   "metadata": {},
   "outputs": [],
   "source": [
    "plt.figure(figsize= (12, 8))\n",
    "\n",
    "for i in countries:\n",
    "    sns.scatterplot(co2[i].index, co2[i])\n",
    "    \n",
    "plt.title('CO2 emmissions per year, for 5 countries', fontsize = 15, weight = 'bold')\n",
    "plt.xticks(rotation = 45, fontsize = 12)\n",
    "plt.yticks(fontsize = 12)\n",
    "plt.xlabel('year', fontsize = 12)\n",
    "plt.ylabel('emmission level', fontsize = 12)\n",
    "plt.legend(co2.columns)"
   ]
  },
  {
   "cell_type": "markdown",
   "metadata": {},
   "source": [
    "does making it a scatterplot add anything to the understanding of the plot? "
   ]
  },
  {
   "cell_type": "markdown",
   "metadata": {},
   "source": [
    "#### 2. let's take a look at another dataset now, with different types of values "
   ]
  },
  {
   "cell_type": "code",
   "execution_count": null,
   "metadata": {},
   "outputs": [],
   "source": [
    "bike = pd.read_csv('data/bikeshare.txt')"
   ]
  },
  {
   "cell_type": "code",
   "execution_count": null,
   "metadata": {},
   "outputs": [],
   "source": [
    "bike.head()"
   ]
  },
  {
   "cell_type": "code",
   "execution_count": null,
   "metadata": {},
   "outputs": [],
   "source": [
    "# why are we labeling binary data?\n",
    "\n",
    "bike['holiday'].replace({0:'no', 1:'yes'}, inplace = True)\n",
    "bike['weekday'].replace({0:'Sun', 1:'Mon', 2:'Tue', 3:'Wed', 4:'Thu',5:'Fri', 6:'Sat'}, inplace = True)\n",
    "bike['workingday'].replace({0:'no', 1:'yes'}, inplace = True)\n",
    "bike['weathersit'].replace({0:'Clear', 1:'Mist', 2:'Light', 3:'Heavy'},inplace = True) "
   ]
  },
  {
   "cell_type": "code",
   "execution_count": null,
   "metadata": {},
   "outputs": [],
   "source": [
    "# grouping by day and aggregating helps the data be a little less granular, so we have daily stats rather than hourly. \n",
    "daily_counts = bike.____('dteday').___({'casual': \"sum\", 'registered' : 'sum', 'workingday' :'last'})"
   ]
  },
  {
   "cell_type": "markdown",
   "metadata": {},
   "source": [
    "if we want to plot a distribution of casual and registered riders, how should we do that?"
   ]
  },
  {
   "cell_type": "code",
   "execution_count": null,
   "metadata": {},
   "outputs": [],
   "source": [
    "plt.figure(figsize = (12,8))\n",
    "sns.distplot(daily_counts[''], label = 'casual', color = 'gold')\n",
    "sns.distplot(daily_counts[''], label = 'registered', color = 'blue')\n",
    "plt.legend()\n",
    "plt.xlabel('Rider Count', fontsize = 12)\n",
    "plt.ylabel('Density', fontsize = 12)\n",
    "plt.title('Distribution Comparison of Casual vs Registered Riders',weight='bold' , fontsize = 15)"
   ]
  },
  {
   "cell_type": "markdown",
   "metadata": {},
   "source": [
    "now, lets make something a little bit more complicated. a jointplot is a useful tool for when you have a lot of datapoints, and you want to see the distribution of each variable on its own as well"
   ]
  },
  {
   "cell_type": "code",
   "execution_count": null,
   "metadata": {},
   "outputs": [],
   "source": [
    "plt.figure(figsize=(12,12))\n",
    "sns.jointplot(x = '', y = '', data = daily_counts, color = 'midnightblue', alpha = .5).set_axis_labels('Daily Count Casual Rider', 'Daily Count Registered Riders')\n",
    "plt.suptitle('Casual vs Registered Rider Count', fontsize = 15, weight = 'bold')\n"
   ]
  },
  {
   "cell_type": "markdown",
   "metadata": {},
   "source": [
    "lets look at one more type of cool plot-- a kde plot. this is a form of area depiction, with a hint of heatmap behavior. it is meant to visualize distributions, similar to a histogram!"
   ]
  },
  {
   "cell_type": "code",
   "execution_count": null,
   "metadata": {},
   "outputs": [],
   "source": [
    "plt.figure(figsize=(12,8))\n",
    "sns.kdeplot(daily_counts['casual'], daily_counts['registered'], fontsize = 12, cmap=\"Reds\",color = 'coral', alpha = .59, shade=True, shade_lowest=False)\n",
    "plt.title('kdeplot of the daily counts of casual vs registered riders', fontsize = 15, weight = 'bold')"
   ]
  },
  {
   "cell_type": "code",
   "execution_count": null,
   "metadata": {},
   "outputs": [],
   "source": []
  },
  {
   "cell_type": "markdown",
   "metadata": {},
   "source": [
    "#### 3. lets take a look at one last type of dataset-- diet data"
   ]
  },
  {
   "cell_type": "code",
   "execution_count": null,
   "metadata": {},
   "outputs": [],
   "source": [
    "diet = pd.read_csv('diet.csv')"
   ]
  },
  {
   "cell_type": "code",
   "execution_count": null,
   "metadata": {},
   "outputs": [],
   "source": [
    "diet.head()"
   ]
  },
  {
   "cell_type": "code",
   "execution_count": null,
   "metadata": {},
   "outputs": [],
   "source": [
    "len(diet)"
   ]
  },
  {
   "cell_type": "code",
   "execution_count": null,
   "metadata": {},
   "outputs": [],
   "source": [
    "diet.describe()"
   ]
  },
  {
   "cell_type": "code",
   "execution_count": null,
   "metadata": {},
   "outputs": [],
   "source": [
    "bins= np.linspace(15,65,6)\n"
   ]
  },
  {
   "cell_type": "code",
   "execution_count": null,
   "metadata": {},
   "outputs": [],
   "source": [
    "bins"
   ]
  },
  {
   "cell_type": "code",
   "execution_count": null,
   "metadata": {},
   "outputs": [],
   "source": [
    "bins= np.\n",
    "labels = ['16-26', '26-36', '36-46', '46-56', '56-60']\n",
    "diet['AgeGroup'] = pd.cut(diet.Age, bins=bins, labels = labels, include_lowest = True)"
   ]
  },
  {
   "cell_type": "code",
   "execution_count": null,
   "metadata": {},
   "outputs": [],
   "source": [
    "diet"
   ]
  },
  {
   "cell_type": "code",
   "execution_count": null,
   "metadata": {},
   "outputs": [],
   "source": [
    "plt.pie(diet['AgeGroup'].value_counts(), labels =diet['AgeGroup'].value_counts().index.tolist())\n",
    "plt.title('This is Trash!')"
   ]
  },
  {
   "cell_type": "code",
   "execution_count": null,
   "metadata": {},
   "outputs": [],
   "source": [
    "plt.figure(figsize=(12,8))\n",
    "plt.pie(diet[''].value_counts(), labels =diet[''].___().index.tolist(), colors = ['k','dimgrey','darkgrey','lightgrey','gainsboro'], pctdistance=0.5)\n",
    "\n",
    "plt.title('This is Trash!')"
   ]
  },
  {
   "cell_type": "code",
   "execution_count": null,
   "metadata": {},
   "outputs": [],
   "source": [
    "plt.figure(figsize = (12,8))\n",
    "sns.__(diet['AgeGroup'].unique(), diet['AgeGroup'].value_counts(), palette=\"Blues_d\")\n",
    "plt.title('age counts per group', fontsize = 15, weight = 'bold')\n",
    "plt.xlabel('age groups', fontsize = 12)\n",
    "plt.ylabel('count', fontsize =12 )"
   ]
  },
  {
   "cell_type": "code",
   "execution_count": null,
   "metadata": {},
   "outputs": [],
   "source": [
    "diet = diet[diet['gender'].isin(['0','1'])]"
   ]
  },
  {
   "cell_type": "code",
   "execution_count": null,
   "metadata": {},
   "outputs": [],
   "source": [
    "diet"
   ]
  },
  {
   "cell_type": "code",
   "execution_count": null,
   "metadata": {},
   "outputs": [],
   "source": [
    "plt.figure(figsize = (12,8))\n",
    "plt.title('weight distributions \\n per age group, based on sex', fontsize = 15, weight = 'bold')\n",
    "sns.violinplot(x = 'AgeGroup', y = 'pre.weight', data = diet, hue = 'gender', split=True, palette = 'Set2')\n",
    "plt.xlabel('age group', fontsize = 12)\n",
    "plt.ylabel('weight', fontsize = 12)"
   ]
  },
  {
   "cell_type": "code",
   "execution_count": null,
   "metadata": {},
   "outputs": [],
   "source": [
    "plt.figure(figsize = (12,8))\n",
    "plt.title('weight distributions per age group', fontsize = 15, weight = 'bold')\n",
    "sns.boxplot(x = 'AgeGroup', y = 'pre.weight', data = diet, palette='Pastel1')\n",
    "plt.xlabel('age group', fontsize = 12)\n",
    "plt.ylabel('weight', fontsize = 12)"
   ]
  },
  {
   "cell_type": "markdown",
   "metadata": {},
   "source": [
    "challenge: what would be a good plot to use to visualize the difference in pre.weight for the three different types of diet?"
   ]
  },
  {
   "cell_type": "code",
   "execution_count": null,
   "metadata": {},
   "outputs": [],
   "source": []
  },
  {
   "cell_type": "code",
   "execution_count": null,
   "metadata": {},
   "outputs": [],
   "source": []
  }
 ],
 "metadata": {
  "kernelspec": {
   "display_name": "Python 3",
   "language": "python",
   "name": "python3"
  },
  "language_info": {
   "codemirror_mode": {
    "name": "ipython",
    "version": 3
   },
   "file_extension": ".py",
   "mimetype": "text/x-python",
   "name": "python",
   "nbconvert_exporter": "python",
   "pygments_lexer": "ipython3",
   "version": "3.7.1"
  }
 },
 "nbformat": 4,
 "nbformat_minor": 2
}
